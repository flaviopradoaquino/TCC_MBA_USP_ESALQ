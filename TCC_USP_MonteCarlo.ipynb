{
  "nbformat": 4,
  "nbformat_minor": 0,
  "metadata": {
    "colab": {
      "provenance": [],
      "authorship_tag": "ABX9TyNvZHSxO1ND3fW7vag4TsoZ",
      "include_colab_link": true
    },
    "kernelspec": {
      "name": "python3",
      "display_name": "Python 3"
    },
    "language_info": {
      "name": "python"
    }
  },
  "cells": [
    {
      "cell_type": "markdown",
      "metadata": {
        "id": "view-in-github",
        "colab_type": "text"
      },
      "source": [
        "<a href=\"https://colab.research.google.com/github/flaviopradoaquino/TCC_MBA_USP_ESALQ/blob/main/TCC_USP_MonteCarlo.ipynb\" target=\"_parent\"><img src=\"https://colab.research.google.com/assets/colab-badge.svg\" alt=\"Open In Colab\"/></a>"
      ]
    },
    {
      "cell_type": "markdown",
      "source": [
        "# **Instalação e Importação das Bibliotecas**"
      ],
      "metadata": {
        "id": "vGA34-hxtRvz"
      }
    },
    {
      "cell_type": "code",
      "source": [
        "!pip install -q yfinance"
      ],
      "metadata": {
        "id": "GNwHM9o6uWaq"
      },
      "execution_count": null,
      "outputs": []
    },
    {
      "cell_type": "code",
      "execution_count": null,
      "metadata": {
        "id": "R_EwtF-WtCIl"
      },
      "outputs": [],
      "source": [
        "import pandas as pd\n",
        "import numpy as np\n",
        "import plotly.express as px\n",
        "import seaborn as sns\n",
        "import yfinance as yf\n",
        "import datetime\n",
        "from datetime import date, timedelta\n",
        "from prophet.forecaster import Prophet\n",
        "from statsmodels.tsa.seasonal import seasonal_decompose\n",
        "from sklearn.metrics import mean_absolute_error\n",
        "from scipy import stats"
      ]
    },
    {
      "cell_type": "markdown",
      "source": [
        "# **Construção do Dataset**"
      ],
      "metadata": {
        "id": "i-73YAbgterS"
      }
    },
    {
      "cell_type": "code",
      "source": [
        "dateparse = lambda dates: datetime.datetime.strptime(dates, '%Y-%m-%d')"
      ],
      "metadata": {
        "id": "sPUvMcFNthgQ"
      },
      "execution_count": null,
      "outputs": []
    },
    {
      "cell_type": "code",
      "source": [
        "from datetime import datetime \n",
        "dt_atual = date.today()\n",
        "td = timedelta(1095)\n",
        "dt_final = datetime(2023, 3, 3)"
      ],
      "metadata": {
        "id": "x4Ujta_ktm0-"
      },
      "execution_count": null,
      "outputs": []
    },
    {
      "cell_type": "code",
      "source": [
        "### Data de referência menos 1095 dias\n",
        "df = yf.download(\"BOVA11.SA\", start=(dt_final-td))['Close']\n",
        "\n",
        "### Data atual menos 1095 dias\n",
        "# df = yf.download(\"BOVA11.SA\", start=(dt_atual-td))['Close']\n",
        "\n",
        "### Intervalo de datas fixas\n",
        "# df = yf.download(\"BOVA11.SA\", start=\"2020-03-03\", end=\"2023-03-03\")['Close']"
      ],
      "metadata": {
        "id": "ZTwu7IbquBbK"
      },
      "execution_count": null,
      "outputs": []
    },
    {
      "cell_type": "code",
      "source": [
        "df = df.reset_index()\n",
        "df"
      ],
      "metadata": {
        "id": "NsBIrfXtutyK"
      },
      "execution_count": null,
      "outputs": []
    },
    {
      "cell_type": "code",
      "source": [
        "df_bova = pd.DataFrame(df['Close'])\n",
        "df_bova"
      ],
      "metadata": {
        "id": "_M12YkkougUC"
      },
      "execution_count": null,
      "outputs": []
    },
    {
      "cell_type": "markdown",
      "source": [
        "# **Excluindo Outliers**"
      ],
      "metadata": {
        "id": "K7-aFJLGejQV"
      }
    },
    {
      "cell_type": "code",
      "source": [
        "dados = df_bova\n",
        "boxplot_bova = px.box(dados, y=\"Close\")\n",
        "boxplot_bova.show()"
      ],
      "metadata": {
        "id": "wbdTeXDeeNYM"
      },
      "execution_count": null,
      "outputs": []
    },
    {
      "cell_type": "code",
      "source": [
        "q1 = np.quantile(dados, .25, method=\"midpoint\")\n",
        "q2 = np.quantile(dados, .5, method=\"midpoint\")\n",
        "q3 = np.quantile(dados, .75, method=\"midpoint\")\n",
        "IIQ = q3 - q1"
      ],
      "metadata": {
        "id": "RBXUcF9Uezaf"
      },
      "execution_count": null,
      "outputs": []
    },
    {
      "cell_type": "code",
      "source": [
        "### Limite inferior do boxplot\n",
        "limite_inferior = q1 - 1.5 * IIQ\n",
        "limite_inferior"
      ],
      "metadata": {
        "id": "3SXXAdn4fD_q"
      },
      "execution_count": null,
      "outputs": []
    },
    {
      "cell_type": "code",
      "source": [
        "### Limite superior do boxplot\n",
        "limite_superior = q3 + 1.5 * IIQ\n",
        "limite_superior"
      ],
      "metadata": {
        "id": "z-zoG1MQfGzh"
      },
      "execution_count": null,
      "outputs": []
    },
    {
      "cell_type": "code",
      "source": [
        "df_bova_lim_inf = df_bova[df_bova['Close']>limite_inferior]\n",
        "df_bova_clean = df_bova_lim_inf[df_bova_lim_inf['Close']<limite_superior]\n",
        "df_bova = df_bova_clean\n",
        "df_bova"
      ],
      "metadata": {
        "id": "nZVi2YR0fJ19"
      },
      "execution_count": null,
      "outputs": []
    },
    {
      "cell_type": "markdown",
      "source": [
        "# **Construindo o Modelo**"
      ],
      "metadata": {
        "id": "FR58qkaWnxTS"
      }
    },
    {
      "cell_type": "code",
      "source": [
        "### Normalização\n",
        "df_normalizado = df_bova.copy()\n",
        "for i in df_bova:\n",
        "  df_normalizado[i] = df_bova[i] / df_bova[i][0]\n",
        "df_normalizado"
      ],
      "metadata": {
        "id": "QmTI52sl6mym"
      },
      "execution_count": null,
      "outputs": []
    },
    {
      "cell_type": "code",
      "source": [
        "### Calculando a taxa de retorno\n",
        "df_taxa_retorno = np.log(1 + df_normalizado.pct_change())\n",
        "df_taxa_retorno"
      ],
      "metadata": {
        "id": "GqAEDL6P7Hrv"
      },
      "execution_count": null,
      "outputs": []
    },
    {
      "cell_type": "markdown",
      "source": [
        "# **Movimento Browniano com Drift**"
      ],
      "metadata": {
        "id": "eF_9w_hYn79H"
      }
    },
    {
      "cell_type": "code",
      "source": [
        "### Drift\n",
        "drift = df_taxa_retorno.mean() - (0.5 * df_taxa_retorno.var())\n",
        "drift"
      ],
      "metadata": {
        "id": "8mJC1cOnohJG"
      },
      "execution_count": null,
      "outputs": []
    },
    {
      "cell_type": "markdown",
      "source": [
        "# **Retorno Diário**"
      ],
      "metadata": {
        "id": "I2A7NoQYm9N3"
      }
    },
    {
      "cell_type": "code",
      "source": [
        "### Definição da quantidade de dias futuro e total de simulções\n",
        "dias = 90\n",
        "simulacao = 10"
      ],
      "metadata": {
        "id": "Ebn0ou1lnEKg"
      },
      "execution_count": null,
      "outputs": []
    },
    {
      "cell_type": "code",
      "source": [
        "### Desvio Padrão\n",
        "desvio_padrao = df_taxa_retorno.std()\n",
        "desvio_padrao"
      ],
      "metadata": {
        "id": "dQy4Uf3MnoEP"
      },
      "execution_count": null,
      "outputs": []
    },
    {
      "cell_type": "code",
      "source": [
        "### Padronização\n",
        "Z = stats.norm.ppf(np.random.rand(dias, simulacao))"
      ],
      "metadata": {
        "id": "x2zQ5vaMo-wu"
      },
      "execution_count": null,
      "outputs": []
    },
    {
      "cell_type": "code",
      "source": [
        "Z.shape"
      ],
      "metadata": {
        "id": "-MfR49g2pMZm"
      },
      "execution_count": null,
      "outputs": []
    },
    {
      "cell_type": "code",
      "source": [
        "### Definição do retorno diário\n",
        "retorno_diario = np.exp(drift.values + desvio_padrao.values * Z)"
      ],
      "metadata": {
        "id": "ZqtJ3oRLpiv2"
      },
      "execution_count": null,
      "outputs": []
    },
    {
      "cell_type": "code",
      "source": [
        "retorno_diario.shape"
      ],
      "metadata": {
        "id": "I4lsbLe8ppCm"
      },
      "execution_count": null,
      "outputs": []
    },
    {
      "cell_type": "code",
      "source": [
        "### Definição da matriz de zeros\n",
        "previsao = np.zeros_like(retorno_diario)"
      ],
      "metadata": {
        "id": "gKqopOnpp3iP"
      },
      "execution_count": null,
      "outputs": []
    },
    {
      "cell_type": "code",
      "source": [
        "previsao[0] = df_bova.iloc[-1]\n",
        "previsao"
      ],
      "metadata": {
        "id": "1A1MYW0xqAW3"
      },
      "execution_count": null,
      "outputs": []
    },
    {
      "cell_type": "code",
      "source": [
        "### Gerando valores da previsão\n",
        "for dia in range(1, dias):\n",
        "  previsao[dia] = previsao[dia - 1] * retorno_diario[dia]"
      ],
      "metadata": {
        "id": "dNVx3w8wqSRf"
      },
      "execution_count": null,
      "outputs": []
    },
    {
      "cell_type": "code",
      "source": [
        "previsao.shape"
      ],
      "metadata": {
        "id": "6wNp8WxSqhO2"
      },
      "execution_count": null,
      "outputs": []
    },
    {
      "cell_type": "code",
      "source": [
        "previsao"
      ],
      "metadata": {
        "id": "0LwjUIWGqj3H"
      },
      "execution_count": null,
      "outputs": []
    },
    {
      "cell_type": "markdown",
      "source": [
        "# **Geração do Gráfico**"
      ],
      "metadata": {
        "id": "mAaxglV3q2A2"
      }
    },
    {
      "cell_type": "code",
      "source": [
        "### Matriz transposta\n",
        "previsao.T"
      ],
      "metadata": {
        "id": "IL052hEiqv0A"
      },
      "execution_count": null,
      "outputs": []
    },
    {
      "cell_type": "code",
      "source": [
        "### Parâmetros do gráfico\n",
        "figura = px.line(title = 'Simulação de Monte Carlo - Ações da BOVA')\n",
        "for i in range(len(previsao.T)):\n",
        "  figura.add_scatter(y = previsao.T[i], name = i)\n",
        "figura.show()"
      ],
      "metadata": {
        "id": "2l8xq36PrCjO"
      },
      "execution_count": null,
      "outputs": []
    },
    {
      "cell_type": "markdown",
      "source": [
        "# **Avaliação da Previsão**"
      ],
      "metadata": {
        "id": "eu9KoeWXsNeW"
      }
    },
    {
      "cell_type": "code",
      "source": [
        "from datetime import date, timedelta\n",
        "\n",
        "dt_atual_02 = date.today()\n",
        "td_02 = timedelta(129)"
      ],
      "metadata": {
        "id": "8oBtQO8IsRaG"
      },
      "execution_count": null,
      "outputs": []
    },
    {
      "cell_type": "code",
      "source": [
        "df2 = yf.download(\"BOVA11.SA\", start=(dt_atual_02-td_02))['Close']"
      ],
      "metadata": {
        "id": "n8xfDuIXsfxw"
      },
      "execution_count": null,
      "outputs": []
    },
    {
      "cell_type": "code",
      "source": [
        "df2 = df2.reset_index()\n",
        "df2"
      ],
      "metadata": {
        "id": "3oDFMBogsqL9"
      },
      "execution_count": null,
      "outputs": []
    },
    {
      "cell_type": "code",
      "source": [
        "df_bova_02 = pd.DataFrame(df2['Close'])\n",
        "df_bova_02"
      ],
      "metadata": {
        "id": "RSreNyqgs3rH"
      },
      "execution_count": null,
      "outputs": []
    },
    {
      "cell_type": "code",
      "source": [
        "boxplot_avaliacao = px.box(df_bova_02, y=\"Close\")\n",
        "boxplot_avaliacao.show()"
      ],
      "metadata": {
        "id": "PPJEcFWinRea"
      },
      "execution_count": null,
      "outputs": []
    },
    {
      "cell_type": "code",
      "source": [
        "len(df_bova_02)"
      ],
      "metadata": {
        "id": "z_0Cq8DTtLO8"
      },
      "execution_count": null,
      "outputs": []
    },
    {
      "cell_type": "code",
      "source": [
        "simulacao_01 = previsao.T[0][0:len(df_bova_02)]\n",
        "simulacao_01"
      ],
      "metadata": {
        "id": "cxP1rb6TuAIe"
      },
      "execution_count": null,
      "outputs": []
    },
    {
      "cell_type": "code",
      "source": [
        "len(simulacao_01)"
      ],
      "metadata": {
        "id": "w9ZaYdY9uKZg"
      },
      "execution_count": null,
      "outputs": []
    },
    {
      "cell_type": "code",
      "source": [
        "df_bova_02['Close']"
      ],
      "metadata": {
        "id": "viJD6hWxuRze"
      },
      "execution_count": null,
      "outputs": []
    },
    {
      "cell_type": "code",
      "source": [
        "from sklearn.metrics import mean_absolute_error\n",
        "mean_absolute_error(df_bova_02['Close'], simulacao_01)"
      ],
      "metadata": {
        "id": "EtV1KtyXuW9d"
      },
      "execution_count": null,
      "outputs": []
    },
    {
      "cell_type": "code",
      "source": [
        "erro = []\n",
        "for i in range(len(previsao.T)):\n",
        "  simulacao_01 = previsao.T[i][0:len(df_bova_02)]\n",
        "  erro.append(mean_absolute_error(df_bova_02['Close'], simulacao_01))"
      ],
      "metadata": {
        "id": "c5j2-dMfush-"
      },
      "execution_count": null,
      "outputs": []
    },
    {
      "cell_type": "code",
      "source": [
        "erro"
      ],
      "metadata": {
        "id": "S57dWST0u-et"
      },
      "execution_count": null,
      "outputs": []
    },
    {
      "cell_type": "code",
      "source": [
        "erro.index(max(erro)), erro.index(min(erro))"
      ],
      "metadata": {
        "id": "Mob_2L4Dvbym"
      },
      "execution_count": null,
      "outputs": []
    },
    {
      "cell_type": "code",
      "source": [
        "max(erro),min(erro)"
      ],
      "metadata": {
        "id": "rSUpvkOzXucW"
      },
      "execution_count": null,
      "outputs": []
    },
    {
      "cell_type": "code",
      "source": [
        "figura = px.line(title = 'Previsões do preço das ações da BOVA - simulação')\n",
        "figura.add_scatter(y = df_bova_02['Close'], name = 'Valor real')\n",
        "figura.add_scatter(y = previsao.T[erro.index(max(erro))], name = 'Pior simulação')\n",
        "figura.add_scatter(y = previsao.T[erro.index(min(erro))], name = 'Melhor simulação')"
      ],
      "metadata": {
        "id": "q6M-75g8vwB1"
      },
      "execution_count": null,
      "outputs": []
    }
  ]
}