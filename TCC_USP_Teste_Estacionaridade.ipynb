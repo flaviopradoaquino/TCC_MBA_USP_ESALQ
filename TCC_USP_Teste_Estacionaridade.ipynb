{
  "nbformat": 4,
  "nbformat_minor": 0,
  "metadata": {
    "colab": {
      "provenance": [],
      "authorship_tag": "ABX9TyMjsl6yPYFLLjYQxKKuW27r",
      "include_colab_link": true
    },
    "kernelspec": {
      "name": "python3",
      "display_name": "Python 3"
    },
    "language_info": {
      "name": "python"
    }
  },
  "cells": [
    {
      "cell_type": "markdown",
      "metadata": {
        "id": "view-in-github",
        "colab_type": "text"
      },
      "source": [
        "<a href=\"https://colab.research.google.com/github/flaviopradoaquino/TCC_MBA_USP_ESALQ/blob/main/TCC_USP_Teste_Estacionaridade.ipynb\" target=\"_parent\"><img src=\"https://colab.research.google.com/assets/colab-badge.svg\" alt=\"Open In Colab\"/></a>"
      ]
    },
    {
      "cell_type": "markdown",
      "source": [
        "# **Instalação e Importação das Bibliotecas**"
      ],
      "metadata": {
        "id": "QiyA0DIMHdrf"
      }
    },
    {
      "cell_type": "code",
      "execution_count": 1,
      "metadata": {
        "id": "iWglXk3JHMra"
      },
      "outputs": [],
      "source": [
        "!pip install -q yfinance"
      ]
    },
    {
      "cell_type": "code",
      "source": [
        "import pandas as pd\n",
        "import numpy as np\n",
        "import matplotlib.pyplot as plt\n",
        "import yfinance as yf\n",
        "import datetime\n",
        "import statsmodels.tsa.stattools\n",
        "import plotly.express as px\n",
        "from datetime import date, timedelta"
      ],
      "metadata": {
        "id": "T8Ers5qAHw6q"
      },
      "execution_count": 2,
      "outputs": []
    },
    {
      "cell_type": "markdown",
      "source": [
        "# **Construção do Dataset**"
      ],
      "metadata": {
        "id": "3ZxIKIvpIoHJ"
      }
    },
    {
      "cell_type": "code",
      "source": [
        "dateparse = lambda dates: datetime.datetime.strptime(dates, '%Y-%m-%d')"
      ],
      "metadata": {
        "id": "-JFzm-ygKGqX"
      },
      "execution_count": 3,
      "outputs": []
    },
    {
      "cell_type": "code",
      "source": [
        "from datetime import datetime \n",
        "dt_atual = date.today()\n",
        "td = timedelta(1095)\n",
        "dt_final = datetime(2023, 3, 3)"
      ],
      "metadata": {
        "id": "ntZyWMcAl5PP"
      },
      "execution_count": 8,
      "outputs": []
    },
    {
      "cell_type": "code",
      "source": [
        "### Data de referência menos 1095 dias\n",
        "df_teste_est = yf.download(\"BOVA11.SA\", start=(dt_final-td))['Close']\n",
        "\n",
        "### Data atual menos 1095 dias\n",
        "# df = yf.download(\"BOVA11.SA\", start=(dt_atual-td))['Close']\n",
        "\n",
        "### Intervalo de datas fixas\n",
        "# df = yf.download(\"BOVA11.SA\", start=\"2020-03-03\", end=\"2023-03-03\")['Close']"
      ],
      "metadata": {
        "colab": {
          "base_uri": "https://localhost:8080/"
        },
        "id": "VqrlE1kTJTd3",
        "outputId": "1939d8ff-03fe-49fb-8dca-49dda8542a97"
      },
      "execution_count": 9,
      "outputs": [
        {
          "output_type": "stream",
          "name": "stdout",
          "text": [
            "\r[*********************100%***********************]  1 of 1 completed\n"
          ]
        }
      ]
    },
    {
      "cell_type": "code",
      "source": [
        "df_teste_est"
      ],
      "metadata": {
        "id": "OO-YZaNRJj9l",
        "colab": {
          "base_uri": "https://localhost:8080/"
        },
        "outputId": "b4f0c7c0-4174-4515-c599-43706469483b"
      },
      "execution_count": 10,
      "outputs": [
        {
          "output_type": "execute_result",
          "data": {
            "text/plain": [
              "Date\n",
              "2020-03-03    101.750000\n",
              "2020-03-04    103.099998\n",
              "2020-03-05     98.790001\n",
              "2020-03-06     94.400002\n",
              "2020-03-09     82.699997\n",
              "                 ...    \n",
              "2023-03-20     97.699997\n",
              "2023-03-21     97.930000\n",
              "2023-03-22     97.029999\n",
              "2023-03-23     94.580002\n",
              "2023-03-24     95.639999\n",
              "Name: Close, Length: 762, dtype: float64"
            ]
          },
          "metadata": {},
          "execution_count": 10
        }
      ]
    },
    {
      "cell_type": "markdown",
      "source": [
        "# **Teste de Estacionaridade KPSS (Kwiatkowski-Phillips-Schmidt-Shin)**\n",
        "\n",
        "**Ho = não é estacionário: estatística do teste > valor crítico**\n",
        "\n",
        "**Ha = é estacionário: estatística do teste < valor crítico**"
      ],
      "metadata": {
        "id": "P7_QxuD0bIWX"
      }
    },
    {
      "cell_type": "code",
      "source": [
        "kpss_01 = statsmodels.tsa.stattools.kpss(df_teste_est)\n",
        "print('Estatítica do teste: {:.4f}'.format(kpss_01[0]))\n",
        "print('p_valor: {:.4f}'.format(kpss_01[1]))\n",
        "print('número de lags: {}'.format(kpss_01[2]))\n",
        "print('Valores Críticos:')\n",
        "for chave, valor in kpss_01[3].items():\n",
        "   print('{}: {:.4f}'.format(chave, valor))"
      ],
      "metadata": {
        "colab": {
          "base_uri": "https://localhost:8080/"
        },
        "id": "InIKi6tpXmb4",
        "outputId": "7665ba48-18ef-432e-b4ed-1cc44912a6a1"
      },
      "execution_count": 11,
      "outputs": [
        {
          "output_type": "stream",
          "name": "stdout",
          "text": [
            "Estatítica do teste: 1.0576\n",
            "p_valor: 0.0100\n",
            "número de lags: 17\n",
            "Valores Críticos:\n",
            "10%: 0.3470\n",
            "5%: 0.4630\n",
            "2.5%: 0.5740\n",
            "1%: 0.7390\n"
          ]
        },
        {
          "output_type": "stream",
          "name": "stderr",
          "text": [
            "/usr/local/lib/python3.9/dist-packages/statsmodels/tsa/stattools.py:2018: InterpolationWarning: The test statistic is outside of the range of p-values available in the\n",
            "look-up table. The actual p-value is smaller than the p-value returned.\n",
            "\n",
            "  warnings.warn(\n"
          ]
        }
      ]
    },
    {
      "cell_type": "markdown",
      "source": [
        "# **Teste de Estacionaridade DFuller (Dickey Fuller)**\n",
        "\n",
        "**Ho = não é estacionário: estatística do teste > valor crítico**\n",
        "\n",
        "**Ha = é estacionário: estatística do teste < valor crítico**"
      ],
      "metadata": {
        "id": "DsHoCf5BcChf"
      }
    },
    {
      "cell_type": "code",
      "source": [
        "dfuller_01 = statsmodels.tsa.stattools.adfuller(df_teste_est)\n",
        "print('Estatítica do teste: {:.4f}'.format(dfuller_01[0]))\n",
        "print('p_valor: {:.8f}'.format(dfuller_01[1]))\n",
        "print('Valores Críticos:')\n",
        "for chave, valor in dfuller_01[4].items():\n",
        "   print('{}: {:.4f}'.format(chave, valor))"
      ],
      "metadata": {
        "colab": {
          "base_uri": "https://localhost:8080/"
        },
        "id": "qatgGNGNcVJd",
        "outputId": "84163911-bd2b-4231-a7b3-2655e9f2878e"
      },
      "execution_count": 12,
      "outputs": [
        {
          "output_type": "stream",
          "name": "stdout",
          "text": [
            "Estatítica do teste: -1.7492\n",
            "p_valor: 0.40597583\n",
            "Valores Críticos:\n",
            "1%: -3.4390\n",
            "5%: -2.8654\n",
            "10%: -2.5688\n"
          ]
        }
      ]
    },
    {
      "cell_type": "markdown",
      "source": [
        "# **Excluindo Outliers para o Teste de Estacionaridade**"
      ],
      "metadata": {
        "id": "6846-2badKiQ"
      }
    },
    {
      "cell_type": "markdown",
      "source": [],
      "metadata": {
        "id": "6mYJ3eZ_cJNC"
      }
    },
    {
      "cell_type": "code",
      "source": [
        "df = df_teste_est.reset_index()"
      ],
      "metadata": {
        "id": "C4tErq7mTltP"
      },
      "execution_count": 13,
      "outputs": []
    },
    {
      "cell_type": "code",
      "source": [
        "df"
      ],
      "metadata": {
        "id": "l-uHFoRaUNyu",
        "colab": {
          "base_uri": "https://localhost:8080/",
          "height": 424
        },
        "outputId": "3e63cdd0-aea8-410b-adb6-acffba62eae9"
      },
      "execution_count": 14,
      "outputs": [
        {
          "output_type": "execute_result",
          "data": {
            "text/plain": [
              "          Date       Close\n",
              "0   2020-03-03  101.750000\n",
              "1   2020-03-04  103.099998\n",
              "2   2020-03-05   98.790001\n",
              "3   2020-03-06   94.400002\n",
              "4   2020-03-09   82.699997\n",
              "..         ...         ...\n",
              "757 2023-03-20   97.699997\n",
              "758 2023-03-21   97.930000\n",
              "759 2023-03-22   97.029999\n",
              "760 2023-03-23   94.580002\n",
              "761 2023-03-24   95.639999\n",
              "\n",
              "[762 rows x 2 columns]"
            ],
            "text/html": [
              "\n",
              "  <div id=\"df-1b038e3e-8b97-4019-a14f-888a166792e5\">\n",
              "    <div class=\"colab-df-container\">\n",
              "      <div>\n",
              "<style scoped>\n",
              "    .dataframe tbody tr th:only-of-type {\n",
              "        vertical-align: middle;\n",
              "    }\n",
              "\n",
              "    .dataframe tbody tr th {\n",
              "        vertical-align: top;\n",
              "    }\n",
              "\n",
              "    .dataframe thead th {\n",
              "        text-align: right;\n",
              "    }\n",
              "</style>\n",
              "<table border=\"1\" class=\"dataframe\">\n",
              "  <thead>\n",
              "    <tr style=\"text-align: right;\">\n",
              "      <th></th>\n",
              "      <th>Date</th>\n",
              "      <th>Close</th>\n",
              "    </tr>\n",
              "  </thead>\n",
              "  <tbody>\n",
              "    <tr>\n",
              "      <th>0</th>\n",
              "      <td>2020-03-03</td>\n",
              "      <td>101.750000</td>\n",
              "    </tr>\n",
              "    <tr>\n",
              "      <th>1</th>\n",
              "      <td>2020-03-04</td>\n",
              "      <td>103.099998</td>\n",
              "    </tr>\n",
              "    <tr>\n",
              "      <th>2</th>\n",
              "      <td>2020-03-05</td>\n",
              "      <td>98.790001</td>\n",
              "    </tr>\n",
              "    <tr>\n",
              "      <th>3</th>\n",
              "      <td>2020-03-06</td>\n",
              "      <td>94.400002</td>\n",
              "    </tr>\n",
              "    <tr>\n",
              "      <th>4</th>\n",
              "      <td>2020-03-09</td>\n",
              "      <td>82.699997</td>\n",
              "    </tr>\n",
              "    <tr>\n",
              "      <th>...</th>\n",
              "      <td>...</td>\n",
              "      <td>...</td>\n",
              "    </tr>\n",
              "    <tr>\n",
              "      <th>757</th>\n",
              "      <td>2023-03-20</td>\n",
              "      <td>97.699997</td>\n",
              "    </tr>\n",
              "    <tr>\n",
              "      <th>758</th>\n",
              "      <td>2023-03-21</td>\n",
              "      <td>97.930000</td>\n",
              "    </tr>\n",
              "    <tr>\n",
              "      <th>759</th>\n",
              "      <td>2023-03-22</td>\n",
              "      <td>97.029999</td>\n",
              "    </tr>\n",
              "    <tr>\n",
              "      <th>760</th>\n",
              "      <td>2023-03-23</td>\n",
              "      <td>94.580002</td>\n",
              "    </tr>\n",
              "    <tr>\n",
              "      <th>761</th>\n",
              "      <td>2023-03-24</td>\n",
              "      <td>95.639999</td>\n",
              "    </tr>\n",
              "  </tbody>\n",
              "</table>\n",
              "<p>762 rows × 2 columns</p>\n",
              "</div>\n",
              "      <button class=\"colab-df-convert\" onclick=\"convertToInteractive('df-1b038e3e-8b97-4019-a14f-888a166792e5')\"\n",
              "              title=\"Convert this dataframe to an interactive table.\"\n",
              "              style=\"display:none;\">\n",
              "        \n",
              "  <svg xmlns=\"http://www.w3.org/2000/svg\" height=\"24px\"viewBox=\"0 0 24 24\"\n",
              "       width=\"24px\">\n",
              "    <path d=\"M0 0h24v24H0V0z\" fill=\"none\"/>\n",
              "    <path d=\"M18.56 5.44l.94 2.06.94-2.06 2.06-.94-2.06-.94-.94-2.06-.94 2.06-2.06.94zm-11 1L8.5 8.5l.94-2.06 2.06-.94-2.06-.94L8.5 2.5l-.94 2.06-2.06.94zm10 10l.94 2.06.94-2.06 2.06-.94-2.06-.94-.94-2.06-.94 2.06-2.06.94z\"/><path d=\"M17.41 7.96l-1.37-1.37c-.4-.4-.92-.59-1.43-.59-.52 0-1.04.2-1.43.59L10.3 9.45l-7.72 7.72c-.78.78-.78 2.05 0 2.83L4 21.41c.39.39.9.59 1.41.59.51 0 1.02-.2 1.41-.59l7.78-7.78 2.81-2.81c.8-.78.8-2.07 0-2.86zM5.41 20L4 18.59l7.72-7.72 1.47 1.35L5.41 20z\"/>\n",
              "  </svg>\n",
              "      </button>\n",
              "      \n",
              "  <style>\n",
              "    .colab-df-container {\n",
              "      display:flex;\n",
              "      flex-wrap:wrap;\n",
              "      gap: 12px;\n",
              "    }\n",
              "\n",
              "    .colab-df-convert {\n",
              "      background-color: #E8F0FE;\n",
              "      border: none;\n",
              "      border-radius: 50%;\n",
              "      cursor: pointer;\n",
              "      display: none;\n",
              "      fill: #1967D2;\n",
              "      height: 32px;\n",
              "      padding: 0 0 0 0;\n",
              "      width: 32px;\n",
              "    }\n",
              "\n",
              "    .colab-df-convert:hover {\n",
              "      background-color: #E2EBFA;\n",
              "      box-shadow: 0px 1px 2px rgba(60, 64, 67, 0.3), 0px 1px 3px 1px rgba(60, 64, 67, 0.15);\n",
              "      fill: #174EA6;\n",
              "    }\n",
              "\n",
              "    [theme=dark] .colab-df-convert {\n",
              "      background-color: #3B4455;\n",
              "      fill: #D2E3FC;\n",
              "    }\n",
              "\n",
              "    [theme=dark] .colab-df-convert:hover {\n",
              "      background-color: #434B5C;\n",
              "      box-shadow: 0px 1px 3px 1px rgba(0, 0, 0, 0.15);\n",
              "      filter: drop-shadow(0px 1px 2px rgba(0, 0, 0, 0.3));\n",
              "      fill: #FFFFFF;\n",
              "    }\n",
              "  </style>\n",
              "\n",
              "      <script>\n",
              "        const buttonEl =\n",
              "          document.querySelector('#df-1b038e3e-8b97-4019-a14f-888a166792e5 button.colab-df-convert');\n",
              "        buttonEl.style.display =\n",
              "          google.colab.kernel.accessAllowed ? 'block' : 'none';\n",
              "\n",
              "        async function convertToInteractive(key) {\n",
              "          const element = document.querySelector('#df-1b038e3e-8b97-4019-a14f-888a166792e5');\n",
              "          const dataTable =\n",
              "            await google.colab.kernel.invokeFunction('convertToInteractive',\n",
              "                                                     [key], {});\n",
              "          if (!dataTable) return;\n",
              "\n",
              "          const docLinkHtml = 'Like what you see? Visit the ' +\n",
              "            '<a target=\"_blank\" href=https://colab.research.google.com/notebooks/data_table.ipynb>data table notebook</a>'\n",
              "            + ' to learn more about interactive tables.';\n",
              "          element.innerHTML = '';\n",
              "          dataTable['output_type'] = 'display_data';\n",
              "          await google.colab.output.renderOutput(dataTable, element);\n",
              "          const docLink = document.createElement('div');\n",
              "          docLink.innerHTML = docLinkHtml;\n",
              "          element.appendChild(docLink);\n",
              "        }\n",
              "      </script>\n",
              "    </div>\n",
              "  </div>\n",
              "  "
            ]
          },
          "metadata": {},
          "execution_count": 14
        }
      ]
    },
    {
      "cell_type": "code",
      "source": [
        "df_bova_temp = df[['Date', 'Close']].rename(columns = {'Date': 'ds', 'Close': 'y'})"
      ],
      "metadata": {
        "id": "UOFWvYQOSRRn"
      },
      "execution_count": 15,
      "outputs": []
    },
    {
      "cell_type": "code",
      "source": [
        "df_bova_temp"
      ],
      "metadata": {
        "id": "5F0hBwaCV-OF",
        "colab": {
          "base_uri": "https://localhost:8080/",
          "height": 424
        },
        "outputId": "9c005366-6b65-42ca-8dd6-c710ba2f697e"
      },
      "execution_count": 16,
      "outputs": [
        {
          "output_type": "execute_result",
          "data": {
            "text/plain": [
              "            ds           y\n",
              "0   2020-03-03  101.750000\n",
              "1   2020-03-04  103.099998\n",
              "2   2020-03-05   98.790001\n",
              "3   2020-03-06   94.400002\n",
              "4   2020-03-09   82.699997\n",
              "..         ...         ...\n",
              "757 2023-03-20   97.699997\n",
              "758 2023-03-21   97.930000\n",
              "759 2023-03-22   97.029999\n",
              "760 2023-03-23   94.580002\n",
              "761 2023-03-24   95.639999\n",
              "\n",
              "[762 rows x 2 columns]"
            ],
            "text/html": [
              "\n",
              "  <div id=\"df-c7beddca-2cdc-4703-a7c0-7da76936989b\">\n",
              "    <div class=\"colab-df-container\">\n",
              "      <div>\n",
              "<style scoped>\n",
              "    .dataframe tbody tr th:only-of-type {\n",
              "        vertical-align: middle;\n",
              "    }\n",
              "\n",
              "    .dataframe tbody tr th {\n",
              "        vertical-align: top;\n",
              "    }\n",
              "\n",
              "    .dataframe thead th {\n",
              "        text-align: right;\n",
              "    }\n",
              "</style>\n",
              "<table border=\"1\" class=\"dataframe\">\n",
              "  <thead>\n",
              "    <tr style=\"text-align: right;\">\n",
              "      <th></th>\n",
              "      <th>ds</th>\n",
              "      <th>y</th>\n",
              "    </tr>\n",
              "  </thead>\n",
              "  <tbody>\n",
              "    <tr>\n",
              "      <th>0</th>\n",
              "      <td>2020-03-03</td>\n",
              "      <td>101.750000</td>\n",
              "    </tr>\n",
              "    <tr>\n",
              "      <th>1</th>\n",
              "      <td>2020-03-04</td>\n",
              "      <td>103.099998</td>\n",
              "    </tr>\n",
              "    <tr>\n",
              "      <th>2</th>\n",
              "      <td>2020-03-05</td>\n",
              "      <td>98.790001</td>\n",
              "    </tr>\n",
              "    <tr>\n",
              "      <th>3</th>\n",
              "      <td>2020-03-06</td>\n",
              "      <td>94.400002</td>\n",
              "    </tr>\n",
              "    <tr>\n",
              "      <th>4</th>\n",
              "      <td>2020-03-09</td>\n",
              "      <td>82.699997</td>\n",
              "    </tr>\n",
              "    <tr>\n",
              "      <th>...</th>\n",
              "      <td>...</td>\n",
              "      <td>...</td>\n",
              "    </tr>\n",
              "    <tr>\n",
              "      <th>757</th>\n",
              "      <td>2023-03-20</td>\n",
              "      <td>97.699997</td>\n",
              "    </tr>\n",
              "    <tr>\n",
              "      <th>758</th>\n",
              "      <td>2023-03-21</td>\n",
              "      <td>97.930000</td>\n",
              "    </tr>\n",
              "    <tr>\n",
              "      <th>759</th>\n",
              "      <td>2023-03-22</td>\n",
              "      <td>97.029999</td>\n",
              "    </tr>\n",
              "    <tr>\n",
              "      <th>760</th>\n",
              "      <td>2023-03-23</td>\n",
              "      <td>94.580002</td>\n",
              "    </tr>\n",
              "    <tr>\n",
              "      <th>761</th>\n",
              "      <td>2023-03-24</td>\n",
              "      <td>95.639999</td>\n",
              "    </tr>\n",
              "  </tbody>\n",
              "</table>\n",
              "<p>762 rows × 2 columns</p>\n",
              "</div>\n",
              "      <button class=\"colab-df-convert\" onclick=\"convertToInteractive('df-c7beddca-2cdc-4703-a7c0-7da76936989b')\"\n",
              "              title=\"Convert this dataframe to an interactive table.\"\n",
              "              style=\"display:none;\">\n",
              "        \n",
              "  <svg xmlns=\"http://www.w3.org/2000/svg\" height=\"24px\"viewBox=\"0 0 24 24\"\n",
              "       width=\"24px\">\n",
              "    <path d=\"M0 0h24v24H0V0z\" fill=\"none\"/>\n",
              "    <path d=\"M18.56 5.44l.94 2.06.94-2.06 2.06-.94-2.06-.94-.94-2.06-.94 2.06-2.06.94zm-11 1L8.5 8.5l.94-2.06 2.06-.94-2.06-.94L8.5 2.5l-.94 2.06-2.06.94zm10 10l.94 2.06.94-2.06 2.06-.94-2.06-.94-.94-2.06-.94 2.06-2.06.94z\"/><path d=\"M17.41 7.96l-1.37-1.37c-.4-.4-.92-.59-1.43-.59-.52 0-1.04.2-1.43.59L10.3 9.45l-7.72 7.72c-.78.78-.78 2.05 0 2.83L4 21.41c.39.39.9.59 1.41.59.51 0 1.02-.2 1.41-.59l7.78-7.78 2.81-2.81c.8-.78.8-2.07 0-2.86zM5.41 20L4 18.59l7.72-7.72 1.47 1.35L5.41 20z\"/>\n",
              "  </svg>\n",
              "      </button>\n",
              "      \n",
              "  <style>\n",
              "    .colab-df-container {\n",
              "      display:flex;\n",
              "      flex-wrap:wrap;\n",
              "      gap: 12px;\n",
              "    }\n",
              "\n",
              "    .colab-df-convert {\n",
              "      background-color: #E8F0FE;\n",
              "      border: none;\n",
              "      border-radius: 50%;\n",
              "      cursor: pointer;\n",
              "      display: none;\n",
              "      fill: #1967D2;\n",
              "      height: 32px;\n",
              "      padding: 0 0 0 0;\n",
              "      width: 32px;\n",
              "    }\n",
              "\n",
              "    .colab-df-convert:hover {\n",
              "      background-color: #E2EBFA;\n",
              "      box-shadow: 0px 1px 2px rgba(60, 64, 67, 0.3), 0px 1px 3px 1px rgba(60, 64, 67, 0.15);\n",
              "      fill: #174EA6;\n",
              "    }\n",
              "\n",
              "    [theme=dark] .colab-df-convert {\n",
              "      background-color: #3B4455;\n",
              "      fill: #D2E3FC;\n",
              "    }\n",
              "\n",
              "    [theme=dark] .colab-df-convert:hover {\n",
              "      background-color: #434B5C;\n",
              "      box-shadow: 0px 1px 3px 1px rgba(0, 0, 0, 0.15);\n",
              "      filter: drop-shadow(0px 1px 2px rgba(0, 0, 0, 0.3));\n",
              "      fill: #FFFFFF;\n",
              "    }\n",
              "  </style>\n",
              "\n",
              "      <script>\n",
              "        const buttonEl =\n",
              "          document.querySelector('#df-c7beddca-2cdc-4703-a7c0-7da76936989b button.colab-df-convert');\n",
              "        buttonEl.style.display =\n",
              "          google.colab.kernel.accessAllowed ? 'block' : 'none';\n",
              "\n",
              "        async function convertToInteractive(key) {\n",
              "          const element = document.querySelector('#df-c7beddca-2cdc-4703-a7c0-7da76936989b');\n",
              "          const dataTable =\n",
              "            await google.colab.kernel.invokeFunction('convertToInteractive',\n",
              "                                                     [key], {});\n",
              "          if (!dataTable) return;\n",
              "\n",
              "          const docLinkHtml = 'Like what you see? Visit the ' +\n",
              "            '<a target=\"_blank\" href=https://colab.research.google.com/notebooks/data_table.ipynb>data table notebook</a>'\n",
              "            + ' to learn more about interactive tables.';\n",
              "          element.innerHTML = '';\n",
              "          dataTable['output_type'] = 'display_data';\n",
              "          await google.colab.output.renderOutput(dataTable, element);\n",
              "          const docLink = document.createElement('div');\n",
              "          docLink.innerHTML = docLinkHtml;\n",
              "          element.appendChild(docLink);\n",
              "        }\n",
              "      </script>\n",
              "    </div>\n",
              "  </div>\n",
              "  "
            ]
          },
          "metadata": {},
          "execution_count": 16
        }
      ]
    },
    {
      "cell_type": "code",
      "source": [
        "df_bova = pd.DataFrame({\n",
        "  \"ds\": df_bova_temp['ds'].dt.date,\n",
        "  \"y\":df_bova_temp['y']\n",
        "})"
      ],
      "metadata": {
        "id": "fxhtioTFPI1-"
      },
      "execution_count": 17,
      "outputs": []
    },
    {
      "cell_type": "code",
      "source": [
        "dados = df_bova['y']\n",
        "dados.describe()"
      ],
      "metadata": {
        "colab": {
          "base_uri": "https://localhost:8080/"
        },
        "id": "c77evoa-nSEg",
        "outputId": "b8b6d0c7-8ba1-44c8-d47f-5a6928e43778"
      },
      "execution_count": 19,
      "outputs": [
        {
          "output_type": "execute_result",
          "data": {
            "text/plain": [
              "count    762.000000\n",
              "mean     104.013861\n",
              "std       11.465052\n",
              "min       61.139999\n",
              "25%       98.352499\n",
              "50%      105.830002\n",
              "75%      111.497501\n",
              "max      125.750000\n",
              "Name: y, dtype: float64"
            ]
          },
          "metadata": {},
          "execution_count": 19
        }
      ]
    },
    {
      "cell_type": "code",
      "source": [
        "boxplot_bova = px.box(dados, y=\"y\")\n",
        "boxplot_bova.show()"
      ],
      "metadata": {
        "colab": {
          "base_uri": "https://localhost:8080/",
          "height": 542
        },
        "id": "G7Qcqcr1tSx8",
        "outputId": "85ddafc3-180b-45f6-cc46-ba57a19e5212"
      },
      "execution_count": 20,
      "outputs": [
        {
          "output_type": "display_data",
          "data": {
            "text/html": [
              "<html>\n",
              "<head><meta charset=\"utf-8\" /></head>\n",
              "<body>\n",
              "    <div>            <script src=\"https://cdnjs.cloudflare.com/ajax/libs/mathjax/2.7.5/MathJax.js?config=TeX-AMS-MML_SVG\"></script><script type=\"text/javascript\">if (window.MathJax && window.MathJax.Hub && window.MathJax.Hub.Config) {window.MathJax.Hub.Config({SVG: {font: \"STIX-Web\"}});}</script>                <script type=\"text/javascript\">window.PlotlyConfig = {MathJaxConfig: 'local'};</script>\n",
              "        <script src=\"https://cdn.plot.ly/plotly-2.18.2.min.js\"></script>                <div id=\"2bf20137-68f6-4100-b564-e7caff08732b\" class=\"plotly-graph-div\" style=\"height:525px; width:100%;\"></div>            <script type=\"text/javascript\">                                    window.PLOTLYENV=window.PLOTLYENV || {};                                    if (document.getElementById(\"2bf20137-68f6-4100-b564-e7caff08732b\")) {                    Plotly.newPlot(                        \"2bf20137-68f6-4100-b564-e7caff08732b\",                        [{\"alignmentgroup\":\"True\",\"hovertemplate\":\"y=%{y}<extra></extra>\",\"legendgroup\":\"\",\"marker\":{\"color\":\"#636efa\"},\"name\":\"\",\"notched\":false,\"offsetgroup\":\"\",\"orientation\":\"v\",\"showlegend\":false,\"x0\":\" \",\"xaxis\":\"x\",\"y\":[101.75,103.0999984741211,98.79000091552734,94.4000015258789,82.69999694824219,88.62999725341797,82.05999755859375,70.0999984741211,79.48999786376953,68.4000015258789,71.0,65.01000213623047,65.0,64.7699966430664,61.13999938964844,67.4000015258789,71.7300033569336,74.56999969482422,70.22000122070312,71.97000122070312,69.3499984741211,68.18000030517578,69.62999725341797,66.9000015258789,71.56999969482422,73.51000213623047,75.7300033569336,74.87000274658203,75.95999908447266,76.8499984741211,76.05000305175781,74.93000030517578,76.0,75.66000366210938,77.69999694824219,76.6500015258789,72.41000366210938,75.29000091552734,78.30000305175781,80.18000030517578,77.20999908447266,76.0999984741211,76.54000091552734,76.19999694824219,75.4000015258789,77.43000030517578,76.13999938964844,75.0,75.1500015258789,76.25,74.55999755859375,78.02999877929688,77.6500015258789,78.44999694824219,79.97000122070312,79.94000244140625,82.5999984741211,82.44999694824219,84.68000030517578,83.6500015258789,84.1500015258789,85.33000183105469,87.77999877929688,89.37000274658203,90.30999755859375,91.05000305175781,93.94999694824219,92.94999694824219,91.16999816894531,89.25,89.06999969482422,90.0,91.94999694824219,92.62999725341797,92.63999938964844,91.75,92.26000213623047,90.7699966430664,92.38999938964844,90.22000122070312,92.30000305175781,91.62000274658203,92.68000030517578,92.5,93.19000244140625,95.30999755859375,94.0999984741211,96.0999984741211,95.41000366210938,96.33999633789062,95.05000305175781,96.5999984741211,98.02999877929688,96.81999969482422,99.12999725341797,100.5,100.29000091552734,100.37999725341797,98.4000015258789,98.58999633789062,100.45999908447266,100.05000305175781,101.4800033569336,101.30999755859375,99.29000091552734,99.19999694824219,97.5999984741211,98.98999786376953,100.16999816894531,98.83000183105469,99.54000091552734,98.19999694824219,98.33000183105469,96.51000213623047,97.47000122070312,95.83000183105469,98.25,97.0,97.66999816894531,97.5999984741211,98.5,98.3499984741211,96.62999725341797,96.87000274658203,98.30000305175781,95.69999694824219,98.3499984741211,98.1500015258789,96.95999908447266,97.41999816894531,96.80000305175781,97.5,95.04000091552734,94.4800033569336,96.51000213623047,96.45999908447266,95.91000366210938,96.37000274658203,94.63999938964844,93.4000015258789,93.66999816894531,92.16999816894531,93.30000305175781,93.5,91.19999694824219,89.91999816894531,91.05000305175781,91.91000366210938,90.11000061035156,92.63999938964844,92.02999877929688,91.94999694824219,94.2699966430664,93.6500015258789,94.80000305175781,95.58999633789062,95.33999633789062,94.54000091552734,95.0,96.66999816894531,96.6500015258789,98.05999755859375,97.44000244140625,97.2300033569336,95.68000030517578,91.55999755859375,92.80000305175781,90.66000366210938,92.26000213623047,94.16000366210938,96.94999694824219,97.19000244140625,99.5,101.0,100.88999938964844,98.69999694824219,100.83000183105469,102.51000213623047,103.0999984741211,101.91999816894531,102.7300033569336,103.27999877929688,105.72000122070312,105.83000183105469,106.0199966430664,106.44000244140625,105.0,107.05000305175781,107.75,108.1500015258789,109.43000030517578,109.30999755859375,109.44000244140625,108.7699966430664,110.69999694824219,110.79000091552734,110.19999694824219,111.76000213623047,113.3499984741211,113.98999786376953,113.5,111.43000030517578,112.25,113.13999938964844,114.69999694824219,114.97000122070312,114.6500015258789,114.08999633789062,114.69000244140625,115.55000305175781,118.37000274658203,120.4000015258789,118.62000274658203,119.44999694824219,117.36000061035156,118.68000030517578,115.77999877929688,116.54000091552734,116.0,115.23999786376953,113.80999755859375,113.18000030517578,112.08000183105469,111.58999633789062,114.51000213623047,110.55999755859375,113.05999755859375,113.8499984741211,115.25,114.62000274658203,115.81999969482422,115.18000030517578,114.91000366210938,113.91999816894531,114.9000015258789,115.05000305175781,115.86000061035156,114.61000061035156,113.81999969482422,108.25,110.76000213623047,111.45999908447266,108.08999633789062,105.58999633789062,105.94000244140625,107.5,107.16000366210938,108.56999969482422,110.93000030517578,105.3499984741211,107.19000244140625,108.62999725341797,110.44999694824219,109.85135650634766,110.51969909667969,109.71434020996094,112.1492919921875,110.49861145019531,111.83014678955078,110.63616180419922,108.98515319824219,107.83213806152344,109.45245361328125,110.44692993164062,111.060302734375,112.4375228881836,112.22679901123047,110.9017105102539,113.0841064453125,113.06353759765625,113.18211364746094,113.75,113.01000213623047,114.4000015258789,114.66999816894531,115.5999984741211,116.19999694824219,116.45999908447266,116.33999633789062,115.4800033569336,114.94999694824219,115.97000122070312,115.94999694824219,114.77999877929688,116.4000015258789,115.31999969482422,114.4000015258789,114.68000030517578,113.2699966430664,115.1500015258789,115.43000030517578,117.45999908447266,117.13999938964844,118.12999725341797,115.2699966430664,116.04000091552734,117.23999786376953,118.30999755859375,118.19000244140625,118.01000213623047,117.91000366210938,118.01000213623047,119.26000213623047,118.4000015258789,119.23999786376953,119.58999633789062,120.72000122070312,121.25,123.33000183105469,124.66999816894531,125.05000305175781,125.75,124.70999908447266,124.87999725341797,125.0,124.4800033569336,125.1500015258789,125.18000030517578,124.22000122070312,123.08999633789062,123.2699966430664,124.2300033569336,123.81999969482422,123.54000091552734,124.52999877929688,122.5,122.44999694824219,122.30999755859375,121.80999755859375,120.7300033569336,122.77999877929688,121.97000122070312,120.30000305175781,122.27999877929688,120.66000366210938,122.77999877929688,123.31999969482422,123.47000122070312,122.80000305175781,121.1500015258789,119.73999786376953,120.5999984741211,121.12000274658203,121.43000030517578,120.19999694824219,121.19999694824219,119.76000213623047,121.44999694824219,120.7300033569336,117.11000061035156,117.5999984741211,118.7300033569336,116.95999908447266,116.93000030517578,118.23999786376953,118.13999938964844,117.56999969482422,117.26000213623047,115.87000274658203,116.55999755859375,114.62999725341797,113.3499984741211,112.05999755859375,112.8499984741211,113.6500015258789,113.05000305175781,115.62999725341797,116.13999938964844,114.06999969482422,116.18000030517578,115.08000183105469,114.08000183105469,114.80000305175781,112.1500015258789,112.08999633789062,113.4800033569336,109.08000183105469,111.51000213623047,109.87999725341797,112.12000274658203,111.69999694824219,110.68000030517578,109.44000244140625,107.13999938964844,104.7699966430664,105.7699966430664,107.98999786376953,109.5999984741211,109.02999877929688,108.88999938964844,105.83000183105469,106.83000183105469,106.48999786376953,108.48999786376953,106.18000030517578,106.12000274658203,106.37000274658203,106.41999816894531,108.38999938964844,107.75,109.23999786376953,108.97000122070312,110.22000122070312,109.94999694824219,106.80000305175781,106.7300033569336,103.6500015258789,102.33000183105469,104.55000305175781,102.25,102.4000015258789,100.61000061035156,99.68000030517578,101.5199966430664,102.0,99.6500015258789,100.80999755859375,100.83000183105469,101.38999938964844,102.0199966430664,103.55000305175781,102.12999725341797,100.36000061035156,99.25,98.6500015258789,99.2699966430664,98.23999786376953,100.0,100.66000366210938,101.98999786376953,98.38999938964844,99.01000213623047,98.3499984741211,97.08999633789062,100.43000030517578,101.31999969482422,103.0,103.62999725341797,104.19999694824219,102.13999938964844,103.7300033569336,103.5,102.69999694824219,103.19999694824219,104.41000366210938,103.0999984741211,101.0,101.41999816894531,101.43000030517578,100.8499984741211,101.5999984741211,101.05999755859375,100.25,100.80000305175781,99.93000030517578,99.56999969482422,97.0999984741211,97.8499984741211,98.69999694824219,98.43000030517578,100.0999984741211,101.91000366210938,101.55000305175781,103.06999969482422,102.58000183105469,102.8499984741211,104.05000305175781,104.9000015258789,104.69999694824219,104.08000183105469,106.33000183105469,107.38999938964844,108.19999694824219,107.58000183105469,107.9800033569336,109.1500015258789,107.69000244140625,107.7699966430664,108.0199966430664,107.72000122070312,108.2300033569336,108.2300033569336,109.0999984741211,109.30999755859375,109.5199966430664,110.5999984741211,110.7699966430664,109.0999984741211,108.51000213623047,107.44999694824219,109.0,107.58000183105469,107.4800033569336,108.9000015258789,111.0999984741211,111.0199966430664,110.4000015258789,107.11000061035156,107.29000091552734,109.77999877929688,109.4000015258789,107.69999694824219,106.04000091552734,104.9000015258789,107.13999938964844,108.83000183105469,110.7300033569336,111.94000244140625,113.0999984741211,112.9000015258789,114.73999786376953,114.75,114.51000213623047,115.75,115.9000015258789,115.5999984741211,117.19999694824219,116.80000305175781,114.51000213623047,113.87000274658203,114.6500015258789,113.9800033569336,112.56999969482422,111.7699966430664,112.5199966430664,111.6500015258789,111.45999908447266,110.91999816894531,110.05000305175781,106.75,106.76000213623047,104.27999877929688,105.5199966430664,105.86000061035156,103.4000015258789,102.72000122070312,102.72000122070312,104.37999725341797,101.5,101.2300033569336,99.68000030517578,99.23999786376953,100.63999938964844,102.04000091552734,103.29000091552734,104.4000015258789,104.9000015258789,102.20999908447266,103.08000183105469,104.66000366210938,106.76000213623047,106.63999938964844,106.66000366210938,108.0199966430664,107.9000015258789,106.91999816894531,107.18000030517578,107.47000122070312,108.43000030517578,107.4800033569336,106.41999816894531,106.1500015258789,104.5999984741211,103.68000030517578,101.81999969482422,99.12000274658203,98.36000061035156,99.37999725341797,96.20999908447266,96.29000091552734,96.4000015258789,96.02999877929688,94.66000366210938,95.47000122070312,97.3499984741211,97.05000305175781,96.0,95.0,95.62999725341797,95.19999694824219,94.80000305175781,95.41999816894531,97.37999725341797,96.87999725341797,94.80000305175781,94.9000015258789,94.51000213623047,92.55000305175781,93.2699966430664,93.37000274658203,94.69999694824219,94.94999694824219,95.3499984741211,95.41999816894531,96.75,96.1500015258789,97.83000183105469,99.0999984741211,99.30000305175781,98.55999755859375,99.52999877929688,100.19999694824219,102.4800033569336,102.73999786376953,104.80000305175781,105.05000305175781,106.55999755859375,105.87999725341797,108.63999938964844,108.97000122070312,109.76000213623047,109.98999786376953,109.94000244140625,107.52999877929688,106.7300033569336,109.0999984741211,109.18000030517578,109.5999984741211,108.36000061035156,108.4000015258789,106.4000015258789,105.83000183105469,106.58999633789062,107.08999633789062,108.44999694824219,105.94999694824219,106.18000030517578,108.4000015258789,109.44000244140625,106.9800033569336,106.75,106.11000061035156,105.5999984741211,108.22000122070312,108.8499984741211,108.16000366210938,110.12999725341797,107.83999633789062,105.12999725341797,104.68000030517578,104.81999969482422,103.80000305175781,106.45999908447266,112.4000015258789,112.3499984741211,113.31999969482422,113.47000122070312,112.77999877929688,112.08000183105469,110.88999938964844,110.26000213623047,108.22000122070312,109.9000015258789,111.94000244140625,112.3499984741211,112.9000015258789,116.43000030517578,112.13999938964844,110.4800033569336,108.77999877929688,110.0,113.0,112.1500015258789,112.80999755859375,113.0999984741211,114.0,111.22000122070312,112.30000305175781,109.75,106.0999984741211,108.55000305175781,109.23999786376953,106.04000091552734,105.69000244140625,104.8499984741211,106.08000183105469,105.06999969482422,105.23999786376953,108.19999694824219,105.06999969482422,105.1500015258789,107.29000091552734,108.58000183105469,107.05999755859375,107.94999694824219,105.62999725341797,106.73999786376953,105.58999633789062,103.56999969482422,103.9000015258789,101.80000305175781,100.30000305175781,100.69999694824219,100.5,99.4000015258789,101.37000274658203,103.55000305175781,103.87000274658203,103.93000030517578,106.0,105.1500015258789,104.9000015258789,106.80000305175781,105.94999694824219,102.62999725341797,100.4800033569336,101.91999816894531,104.2699966430664,105.5,105.3499984741211,107.18000030517578,109.0999984741211,108.26000213623047,107.3499984741211,105.47000122070312,107.80000305175781,108.33000183105469,109.11000061035156,108.44999694824219,107.9000015258789,109.43000030517578,110.6500015258789,110.41999816894531,108.4000015258789,108.69999694824219,109.83999633789062,108.4000015258789,106.30000305175781,104.87000274658203,105.25,104.0999984741211,106.33999633789062,104.44000244140625,104.75,105.47000122070312,104.43000030517578,106.05000305175781,106.5,105.55999755859375,103.5999984741211,104.1500015258789,102.37999725341797,102.29000091552734,101.1500015258789,101.19999694824219,99.94000244140625,100.41999816894531,101.47000122070312,100.9000015258789,103.22000122070312,101.55999755859375,100.20999908447266,99.77999877929688,99.58000183105469,99.38999938964844,100.0,98.72000122070312,97.69999694824219,97.93000030517578,97.02999877929688,94.58000183105469,95.63999938964844],\"y0\":\" \",\"yaxis\":\"y\",\"type\":\"box\"}],                        {\"template\":{\"data\":{\"histogram2dcontour\":[{\"type\":\"histogram2dcontour\",\"colorbar\":{\"outlinewidth\":0,\"ticks\":\"\"},\"colorscale\":[[0.0,\"#0d0887\"],[0.1111111111111111,\"#46039f\"],[0.2222222222222222,\"#7201a8\"],[0.3333333333333333,\"#9c179e\"],[0.4444444444444444,\"#bd3786\"],[0.5555555555555556,\"#d8576b\"],[0.6666666666666666,\"#ed7953\"],[0.7777777777777778,\"#fb9f3a\"],[0.8888888888888888,\"#fdca26\"],[1.0,\"#f0f921\"]]}],\"choropleth\":[{\"type\":\"choropleth\",\"colorbar\":{\"outlinewidth\":0,\"ticks\":\"\"}}],\"histogram2d\":[{\"type\":\"histogram2d\",\"colorbar\":{\"outlinewidth\":0,\"ticks\":\"\"},\"colorscale\":[[0.0,\"#0d0887\"],[0.1111111111111111,\"#46039f\"],[0.2222222222222222,\"#7201a8\"],[0.3333333333333333,\"#9c179e\"],[0.4444444444444444,\"#bd3786\"],[0.5555555555555556,\"#d8576b\"],[0.6666666666666666,\"#ed7953\"],[0.7777777777777778,\"#fb9f3a\"],[0.8888888888888888,\"#fdca26\"],[1.0,\"#f0f921\"]]}],\"heatmap\":[{\"type\":\"heatmap\",\"colorbar\":{\"outlinewidth\":0,\"ticks\":\"\"},\"colorscale\":[[0.0,\"#0d0887\"],[0.1111111111111111,\"#46039f\"],[0.2222222222222222,\"#7201a8\"],[0.3333333333333333,\"#9c179e\"],[0.4444444444444444,\"#bd3786\"],[0.5555555555555556,\"#d8576b\"],[0.6666666666666666,\"#ed7953\"],[0.7777777777777778,\"#fb9f3a\"],[0.8888888888888888,\"#fdca26\"],[1.0,\"#f0f921\"]]}],\"heatmapgl\":[{\"type\":\"heatmapgl\",\"colorbar\":{\"outlinewidth\":0,\"ticks\":\"\"},\"colorscale\":[[0.0,\"#0d0887\"],[0.1111111111111111,\"#46039f\"],[0.2222222222222222,\"#7201a8\"],[0.3333333333333333,\"#9c179e\"],[0.4444444444444444,\"#bd3786\"],[0.5555555555555556,\"#d8576b\"],[0.6666666666666666,\"#ed7953\"],[0.7777777777777778,\"#fb9f3a\"],[0.8888888888888888,\"#fdca26\"],[1.0,\"#f0f921\"]]}],\"contourcarpet\":[{\"type\":\"contourcarpet\",\"colorbar\":{\"outlinewidth\":0,\"ticks\":\"\"}}],\"contour\":[{\"type\":\"contour\",\"colorbar\":{\"outlinewidth\":0,\"ticks\":\"\"},\"colorscale\":[[0.0,\"#0d0887\"],[0.1111111111111111,\"#46039f\"],[0.2222222222222222,\"#7201a8\"],[0.3333333333333333,\"#9c179e\"],[0.4444444444444444,\"#bd3786\"],[0.5555555555555556,\"#d8576b\"],[0.6666666666666666,\"#ed7953\"],[0.7777777777777778,\"#fb9f3a\"],[0.8888888888888888,\"#fdca26\"],[1.0,\"#f0f921\"]]}],\"surface\":[{\"type\":\"surface\",\"colorbar\":{\"outlinewidth\":0,\"ticks\":\"\"},\"colorscale\":[[0.0,\"#0d0887\"],[0.1111111111111111,\"#46039f\"],[0.2222222222222222,\"#7201a8\"],[0.3333333333333333,\"#9c179e\"],[0.4444444444444444,\"#bd3786\"],[0.5555555555555556,\"#d8576b\"],[0.6666666666666666,\"#ed7953\"],[0.7777777777777778,\"#fb9f3a\"],[0.8888888888888888,\"#fdca26\"],[1.0,\"#f0f921\"]]}],\"mesh3d\":[{\"type\":\"mesh3d\",\"colorbar\":{\"outlinewidth\":0,\"ticks\":\"\"}}],\"scatter\":[{\"fillpattern\":{\"fillmode\":\"overlay\",\"size\":10,\"solidity\":0.2},\"type\":\"scatter\"}],\"parcoords\":[{\"type\":\"parcoords\",\"line\":{\"colorbar\":{\"outlinewidth\":0,\"ticks\":\"\"}}}],\"scatterpolargl\":[{\"type\":\"scatterpolargl\",\"marker\":{\"colorbar\":{\"outlinewidth\":0,\"ticks\":\"\"}}}],\"bar\":[{\"error_x\":{\"color\":\"#2a3f5f\"},\"error_y\":{\"color\":\"#2a3f5f\"},\"marker\":{\"line\":{\"color\":\"#E5ECF6\",\"width\":0.5},\"pattern\":{\"fillmode\":\"overlay\",\"size\":10,\"solidity\":0.2}},\"type\":\"bar\"}],\"scattergeo\":[{\"type\":\"scattergeo\",\"marker\":{\"colorbar\":{\"outlinewidth\":0,\"ticks\":\"\"}}}],\"scatterpolar\":[{\"type\":\"scatterpolar\",\"marker\":{\"colorbar\":{\"outlinewidth\":0,\"ticks\":\"\"}}}],\"histogram\":[{\"marker\":{\"pattern\":{\"fillmode\":\"overlay\",\"size\":10,\"solidity\":0.2}},\"type\":\"histogram\"}],\"scattergl\":[{\"type\":\"scattergl\",\"marker\":{\"colorbar\":{\"outlinewidth\":0,\"ticks\":\"\"}}}],\"scatter3d\":[{\"type\":\"scatter3d\",\"line\":{\"colorbar\":{\"outlinewidth\":0,\"ticks\":\"\"}},\"marker\":{\"colorbar\":{\"outlinewidth\":0,\"ticks\":\"\"}}}],\"scattermapbox\":[{\"type\":\"scattermapbox\",\"marker\":{\"colorbar\":{\"outlinewidth\":0,\"ticks\":\"\"}}}],\"scatterternary\":[{\"type\":\"scatterternary\",\"marker\":{\"colorbar\":{\"outlinewidth\":0,\"ticks\":\"\"}}}],\"scattercarpet\":[{\"type\":\"scattercarpet\",\"marker\":{\"colorbar\":{\"outlinewidth\":0,\"ticks\":\"\"}}}],\"carpet\":[{\"aaxis\":{\"endlinecolor\":\"#2a3f5f\",\"gridcolor\":\"white\",\"linecolor\":\"white\",\"minorgridcolor\":\"white\",\"startlinecolor\":\"#2a3f5f\"},\"baxis\":{\"endlinecolor\":\"#2a3f5f\",\"gridcolor\":\"white\",\"linecolor\":\"white\",\"minorgridcolor\":\"white\",\"startlinecolor\":\"#2a3f5f\"},\"type\":\"carpet\"}],\"table\":[{\"cells\":{\"fill\":{\"color\":\"#EBF0F8\"},\"line\":{\"color\":\"white\"}},\"header\":{\"fill\":{\"color\":\"#C8D4E3\"},\"line\":{\"color\":\"white\"}},\"type\":\"table\"}],\"barpolar\":[{\"marker\":{\"line\":{\"color\":\"#E5ECF6\",\"width\":0.5},\"pattern\":{\"fillmode\":\"overlay\",\"size\":10,\"solidity\":0.2}},\"type\":\"barpolar\"}],\"pie\":[{\"automargin\":true,\"type\":\"pie\"}]},\"layout\":{\"autotypenumbers\":\"strict\",\"colorway\":[\"#636efa\",\"#EF553B\",\"#00cc96\",\"#ab63fa\",\"#FFA15A\",\"#19d3f3\",\"#FF6692\",\"#B6E880\",\"#FF97FF\",\"#FECB52\"],\"font\":{\"color\":\"#2a3f5f\"},\"hovermode\":\"closest\",\"hoverlabel\":{\"align\":\"left\"},\"paper_bgcolor\":\"white\",\"plot_bgcolor\":\"#E5ECF6\",\"polar\":{\"bgcolor\":\"#E5ECF6\",\"angularaxis\":{\"gridcolor\":\"white\",\"linecolor\":\"white\",\"ticks\":\"\"},\"radialaxis\":{\"gridcolor\":\"white\",\"linecolor\":\"white\",\"ticks\":\"\"}},\"ternary\":{\"bgcolor\":\"#E5ECF6\",\"aaxis\":{\"gridcolor\":\"white\",\"linecolor\":\"white\",\"ticks\":\"\"},\"baxis\":{\"gridcolor\":\"white\",\"linecolor\":\"white\",\"ticks\":\"\"},\"caxis\":{\"gridcolor\":\"white\",\"linecolor\":\"white\",\"ticks\":\"\"}},\"coloraxis\":{\"colorbar\":{\"outlinewidth\":0,\"ticks\":\"\"}},\"colorscale\":{\"sequential\":[[0.0,\"#0d0887\"],[0.1111111111111111,\"#46039f\"],[0.2222222222222222,\"#7201a8\"],[0.3333333333333333,\"#9c179e\"],[0.4444444444444444,\"#bd3786\"],[0.5555555555555556,\"#d8576b\"],[0.6666666666666666,\"#ed7953\"],[0.7777777777777778,\"#fb9f3a\"],[0.8888888888888888,\"#fdca26\"],[1.0,\"#f0f921\"]],\"sequentialminus\":[[0.0,\"#0d0887\"],[0.1111111111111111,\"#46039f\"],[0.2222222222222222,\"#7201a8\"],[0.3333333333333333,\"#9c179e\"],[0.4444444444444444,\"#bd3786\"],[0.5555555555555556,\"#d8576b\"],[0.6666666666666666,\"#ed7953\"],[0.7777777777777778,\"#fb9f3a\"],[0.8888888888888888,\"#fdca26\"],[1.0,\"#f0f921\"]],\"diverging\":[[0,\"#8e0152\"],[0.1,\"#c51b7d\"],[0.2,\"#de77ae\"],[0.3,\"#f1b6da\"],[0.4,\"#fde0ef\"],[0.5,\"#f7f7f7\"],[0.6,\"#e6f5d0\"],[0.7,\"#b8e186\"],[0.8,\"#7fbc41\"],[0.9,\"#4d9221\"],[1,\"#276419\"]]},\"xaxis\":{\"gridcolor\":\"white\",\"linecolor\":\"white\",\"ticks\":\"\",\"title\":{\"standoff\":15},\"zerolinecolor\":\"white\",\"automargin\":true,\"zerolinewidth\":2},\"yaxis\":{\"gridcolor\":\"white\",\"linecolor\":\"white\",\"ticks\":\"\",\"title\":{\"standoff\":15},\"zerolinecolor\":\"white\",\"automargin\":true,\"zerolinewidth\":2},\"scene\":{\"xaxis\":{\"backgroundcolor\":\"#E5ECF6\",\"gridcolor\":\"white\",\"linecolor\":\"white\",\"showbackground\":true,\"ticks\":\"\",\"zerolinecolor\":\"white\",\"gridwidth\":2},\"yaxis\":{\"backgroundcolor\":\"#E5ECF6\",\"gridcolor\":\"white\",\"linecolor\":\"white\",\"showbackground\":true,\"ticks\":\"\",\"zerolinecolor\":\"white\",\"gridwidth\":2},\"zaxis\":{\"backgroundcolor\":\"#E5ECF6\",\"gridcolor\":\"white\",\"linecolor\":\"white\",\"showbackground\":true,\"ticks\":\"\",\"zerolinecolor\":\"white\",\"gridwidth\":2}},\"shapedefaults\":{\"line\":{\"color\":\"#2a3f5f\"}},\"annotationdefaults\":{\"arrowcolor\":\"#2a3f5f\",\"arrowhead\":0,\"arrowwidth\":1},\"geo\":{\"bgcolor\":\"white\",\"landcolor\":\"#E5ECF6\",\"subunitcolor\":\"white\",\"showland\":true,\"showlakes\":true,\"lakecolor\":\"white\"},\"title\":{\"x\":0.05},\"mapbox\":{\"style\":\"light\"}}},\"xaxis\":{\"anchor\":\"y\",\"domain\":[0.0,1.0]},\"yaxis\":{\"anchor\":\"x\",\"domain\":[0.0,1.0],\"title\":{\"text\":\"y\"}},\"legend\":{\"tracegroupgap\":0},\"margin\":{\"t\":60},\"boxmode\":\"group\"},                        {\"responsive\": true}                    ).then(function(){\n",
              "                            \n",
              "var gd = document.getElementById('2bf20137-68f6-4100-b564-e7caff08732b');\n",
              "var x = new MutationObserver(function (mutations, observer) {{\n",
              "        var display = window.getComputedStyle(gd).display;\n",
              "        if (!display || display === 'none') {{\n",
              "            console.log([gd, 'removed!']);\n",
              "            Plotly.purge(gd);\n",
              "            observer.disconnect();\n",
              "        }}\n",
              "}});\n",
              "\n",
              "// Listen for the removal of the full notebook cells\n",
              "var notebookContainer = gd.closest('#notebook-container');\n",
              "if (notebookContainer) {{\n",
              "    x.observe(notebookContainer, {childList: true});\n",
              "}}\n",
              "\n",
              "// Listen for the clearing of the current output cell\n",
              "var outputEl = gd.closest('.output');\n",
              "if (outputEl) {{\n",
              "    x.observe(outputEl, {childList: true});\n",
              "}}\n",
              "\n",
              "                        })                };                            </script>        </div>\n",
              "</body>\n",
              "</html>"
            ]
          },
          "metadata": {}
        }
      ]
    },
    {
      "cell_type": "code",
      "source": [
        "q1 = np.quantile(dados, .25, method=\"midpoint\")\n",
        "q2 = np.quantile(dados, .5, method=\"midpoint\")\n",
        "q3 = np.quantile(dados, .75, method=\"midpoint\")\n",
        "IIQ = q3 - q1"
      ],
      "metadata": {
        "id": "OmaNtq0rqK6I"
      },
      "execution_count": 21,
      "outputs": []
    },
    {
      "cell_type": "code",
      "source": [
        "### Limite inferior do boxplot\n",
        "limite_inferior = q1 - 1.5 * IIQ\n",
        "limite_inferior"
      ],
      "metadata": {
        "colab": {
          "base_uri": "https://localhost:8080/"
        },
        "id": "02CTiQxir3hm",
        "outputId": "db891c9f-d4f1-4fcc-fede-2b00affd6c58"
      },
      "execution_count": 22,
      "outputs": [
        {
          "output_type": "execute_result",
          "data": {
            "text/plain": [
              "78.65999794006348"
            ]
          },
          "metadata": {},
          "execution_count": 22
        }
      ]
    },
    {
      "cell_type": "code",
      "source": [
        "### Limite superior do boxplot\n",
        "limite_superior = q3 + 1.5 * IIQ\n",
        "limite_superior"
      ],
      "metadata": {
        "colab": {
          "base_uri": "https://localhost:8080/"
        },
        "id": "1hzLfnOYsxUm",
        "outputId": "17f39cde-fbca-4713-dad7-5e049b247471"
      },
      "execution_count": 23,
      "outputs": [
        {
          "output_type": "execute_result",
          "data": {
            "text/plain": [
              "131.1800022125244"
            ]
          },
          "metadata": {},
          "execution_count": 23
        }
      ]
    },
    {
      "cell_type": "code",
      "source": [
        "df_bova_lim_inf = df_bova[df_bova['y']>limite_inferior]\n",
        "df_bova_clean = df_bova_lim_inf[df_bova_lim_inf['y']<limite_superior]\n",
        "df_bova = df_bova_clean\n",
        "df_bova"
      ],
      "metadata": {
        "colab": {
          "base_uri": "https://localhost:8080/",
          "height": 424
        },
        "id": "MrX5R7kGtvEI",
        "outputId": "dd273d56-90c9-4374-aa9f-757995c5d33f"
      },
      "execution_count": 25,
      "outputs": [
        {
          "output_type": "execute_result",
          "data": {
            "text/plain": [
              "             ds           y\n",
              "0    2020-03-03  101.750000\n",
              "1    2020-03-04  103.099998\n",
              "2    2020-03-05   98.790001\n",
              "3    2020-03-06   94.400002\n",
              "4    2020-03-09   82.699997\n",
              "..          ...         ...\n",
              "757  2023-03-20   97.699997\n",
              "758  2023-03-21   97.930000\n",
              "759  2023-03-22   97.029999\n",
              "760  2023-03-23   94.580002\n",
              "761  2023-03-24   95.639999\n",
              "\n",
              "[717 rows x 2 columns]"
            ],
            "text/html": [
              "\n",
              "  <div id=\"df-398df1c8-748d-4b12-9d60-e2931df62037\">\n",
              "    <div class=\"colab-df-container\">\n",
              "      <div>\n",
              "<style scoped>\n",
              "    .dataframe tbody tr th:only-of-type {\n",
              "        vertical-align: middle;\n",
              "    }\n",
              "\n",
              "    .dataframe tbody tr th {\n",
              "        vertical-align: top;\n",
              "    }\n",
              "\n",
              "    .dataframe thead th {\n",
              "        text-align: right;\n",
              "    }\n",
              "</style>\n",
              "<table border=\"1\" class=\"dataframe\">\n",
              "  <thead>\n",
              "    <tr style=\"text-align: right;\">\n",
              "      <th></th>\n",
              "      <th>ds</th>\n",
              "      <th>y</th>\n",
              "    </tr>\n",
              "  </thead>\n",
              "  <tbody>\n",
              "    <tr>\n",
              "      <th>0</th>\n",
              "      <td>2020-03-03</td>\n",
              "      <td>101.750000</td>\n",
              "    </tr>\n",
              "    <tr>\n",
              "      <th>1</th>\n",
              "      <td>2020-03-04</td>\n",
              "      <td>103.099998</td>\n",
              "    </tr>\n",
              "    <tr>\n",
              "      <th>2</th>\n",
              "      <td>2020-03-05</td>\n",
              "      <td>98.790001</td>\n",
              "    </tr>\n",
              "    <tr>\n",
              "      <th>3</th>\n",
              "      <td>2020-03-06</td>\n",
              "      <td>94.400002</td>\n",
              "    </tr>\n",
              "    <tr>\n",
              "      <th>4</th>\n",
              "      <td>2020-03-09</td>\n",
              "      <td>82.699997</td>\n",
              "    </tr>\n",
              "    <tr>\n",
              "      <th>...</th>\n",
              "      <td>...</td>\n",
              "      <td>...</td>\n",
              "    </tr>\n",
              "    <tr>\n",
              "      <th>757</th>\n",
              "      <td>2023-03-20</td>\n",
              "      <td>97.699997</td>\n",
              "    </tr>\n",
              "    <tr>\n",
              "      <th>758</th>\n",
              "      <td>2023-03-21</td>\n",
              "      <td>97.930000</td>\n",
              "    </tr>\n",
              "    <tr>\n",
              "      <th>759</th>\n",
              "      <td>2023-03-22</td>\n",
              "      <td>97.029999</td>\n",
              "    </tr>\n",
              "    <tr>\n",
              "      <th>760</th>\n",
              "      <td>2023-03-23</td>\n",
              "      <td>94.580002</td>\n",
              "    </tr>\n",
              "    <tr>\n",
              "      <th>761</th>\n",
              "      <td>2023-03-24</td>\n",
              "      <td>95.639999</td>\n",
              "    </tr>\n",
              "  </tbody>\n",
              "</table>\n",
              "<p>717 rows × 2 columns</p>\n",
              "</div>\n",
              "      <button class=\"colab-df-convert\" onclick=\"convertToInteractive('df-398df1c8-748d-4b12-9d60-e2931df62037')\"\n",
              "              title=\"Convert this dataframe to an interactive table.\"\n",
              "              style=\"display:none;\">\n",
              "        \n",
              "  <svg xmlns=\"http://www.w3.org/2000/svg\" height=\"24px\"viewBox=\"0 0 24 24\"\n",
              "       width=\"24px\">\n",
              "    <path d=\"M0 0h24v24H0V0z\" fill=\"none\"/>\n",
              "    <path d=\"M18.56 5.44l.94 2.06.94-2.06 2.06-.94-2.06-.94-.94-2.06-.94 2.06-2.06.94zm-11 1L8.5 8.5l.94-2.06 2.06-.94-2.06-.94L8.5 2.5l-.94 2.06-2.06.94zm10 10l.94 2.06.94-2.06 2.06-.94-2.06-.94-.94-2.06-.94 2.06-2.06.94z\"/><path d=\"M17.41 7.96l-1.37-1.37c-.4-.4-.92-.59-1.43-.59-.52 0-1.04.2-1.43.59L10.3 9.45l-7.72 7.72c-.78.78-.78 2.05 0 2.83L4 21.41c.39.39.9.59 1.41.59.51 0 1.02-.2 1.41-.59l7.78-7.78 2.81-2.81c.8-.78.8-2.07 0-2.86zM5.41 20L4 18.59l7.72-7.72 1.47 1.35L5.41 20z\"/>\n",
              "  </svg>\n",
              "      </button>\n",
              "      \n",
              "  <style>\n",
              "    .colab-df-container {\n",
              "      display:flex;\n",
              "      flex-wrap:wrap;\n",
              "      gap: 12px;\n",
              "    }\n",
              "\n",
              "    .colab-df-convert {\n",
              "      background-color: #E8F0FE;\n",
              "      border: none;\n",
              "      border-radius: 50%;\n",
              "      cursor: pointer;\n",
              "      display: none;\n",
              "      fill: #1967D2;\n",
              "      height: 32px;\n",
              "      padding: 0 0 0 0;\n",
              "      width: 32px;\n",
              "    }\n",
              "\n",
              "    .colab-df-convert:hover {\n",
              "      background-color: #E2EBFA;\n",
              "      box-shadow: 0px 1px 2px rgba(60, 64, 67, 0.3), 0px 1px 3px 1px rgba(60, 64, 67, 0.15);\n",
              "      fill: #174EA6;\n",
              "    }\n",
              "\n",
              "    [theme=dark] .colab-df-convert {\n",
              "      background-color: #3B4455;\n",
              "      fill: #D2E3FC;\n",
              "    }\n",
              "\n",
              "    [theme=dark] .colab-df-convert:hover {\n",
              "      background-color: #434B5C;\n",
              "      box-shadow: 0px 1px 3px 1px rgba(0, 0, 0, 0.15);\n",
              "      filter: drop-shadow(0px 1px 2px rgba(0, 0, 0, 0.3));\n",
              "      fill: #FFFFFF;\n",
              "    }\n",
              "  </style>\n",
              "\n",
              "      <script>\n",
              "        const buttonEl =\n",
              "          document.querySelector('#df-398df1c8-748d-4b12-9d60-e2931df62037 button.colab-df-convert');\n",
              "        buttonEl.style.display =\n",
              "          google.colab.kernel.accessAllowed ? 'block' : 'none';\n",
              "\n",
              "        async function convertToInteractive(key) {\n",
              "          const element = document.querySelector('#df-398df1c8-748d-4b12-9d60-e2931df62037');\n",
              "          const dataTable =\n",
              "            await google.colab.kernel.invokeFunction('convertToInteractive',\n",
              "                                                     [key], {});\n",
              "          if (!dataTable) return;\n",
              "\n",
              "          const docLinkHtml = 'Like what you see? Visit the ' +\n",
              "            '<a target=\"_blank\" href=https://colab.research.google.com/notebooks/data_table.ipynb>data table notebook</a>'\n",
              "            + ' to learn more about interactive tables.';\n",
              "          element.innerHTML = '';\n",
              "          dataTable['output_type'] = 'display_data';\n",
              "          await google.colab.output.renderOutput(dataTable, element);\n",
              "          const docLink = document.createElement('div');\n",
              "          docLink.innerHTML = docLinkHtml;\n",
              "          element.appendChild(docLink);\n",
              "        }\n",
              "      </script>\n",
              "    </div>\n",
              "  </div>\n",
              "  "
            ]
          },
          "metadata": {},
          "execution_count": 25
        }
      ]
    },
    {
      "cell_type": "code",
      "source": [
        "df_teste_estacionaridade = pd.Series(df_bova['y'].values, index = df_bova['ds'])"
      ],
      "metadata": {
        "id": "D82D9Bn1Zgi6"
      },
      "execution_count": 28,
      "outputs": []
    },
    {
      "cell_type": "markdown",
      "source": [
        "# **Teste de Estacionaridade KPSS (Kwiatkowski-Phillips-Schmidt-Shin)**\n",
        "\n",
        "**Ho = não é estacionário: estatística do teste > valor crítico**\n",
        "\n",
        "**Ha = é estacionário: estatística do teste < valor crítico**"
      ],
      "metadata": {
        "id": "oHUd7l1wdImq"
      }
    },
    {
      "cell_type": "code",
      "source": [
        "kpss_02 = statsmodels.tsa.stattools.kpss(df_teste_estacionaridade)\n",
        "print('Estatítica do teste: {:.4f}'.format(kpss_02[0]))\n",
        "print('p_valor: {:.4f}'.format(kpss_02[1]))\n",
        "print('número de lags: {}'.format(kpss_02[2]))\n",
        "print('Valores Críticos:')\n",
        "for chave, valor in kpss_02[3].items():\n",
        "   print('{}: {:.4f}'.format(chave, valor))"
      ],
      "metadata": {
        "colab": {
          "base_uri": "https://localhost:8080/"
        },
        "id": "UwMz1Ge8aDn3",
        "outputId": "df1d2992-10d6-407a-f340-a4fb7342220d"
      },
      "execution_count": 29,
      "outputs": [
        {
          "output_type": "stream",
          "name": "stdout",
          "text": [
            "Estatítica do teste: 0.5252\n",
            "p_valor: 0.0360\n",
            "número de lags: 17\n",
            "Valores Críticos:\n",
            "10%: 0.3470\n",
            "5%: 0.4630\n",
            "2.5%: 0.5740\n",
            "1%: 0.7390\n"
          ]
        }
      ]
    },
    {
      "cell_type": "markdown",
      "source": [
        "# **Teste de Estacionaridade DFuller (Dickey Fuller)**\n",
        "\n",
        "**Ho = não é estacionário: estatística do teste > valor crítico**\n",
        "\n",
        "**Ha = é estacionário: estatística do teste < valor crítico**"
      ],
      "metadata": {
        "id": "eH6du86pdrZK"
      }
    },
    {
      "cell_type": "code",
      "source": [
        "dfuller_02 = statsmodels.tsa.stattools.adfuller(df_teste_estacionaridade)\n",
        "print('Estatítica do teste: {:.4f}'.format(dfuller_02[0]))\n",
        "print('p_valor: {:.8f}'.format(dfuller_02[1]))\n",
        "print('Valores Críticos:')\n",
        "for chave, valor in dfuller_02[4].items():\n",
        "   print('{}: {:.4f}'.format(chave, valor))"
      ],
      "metadata": {
        "colab": {
          "base_uri": "https://localhost:8080/"
        },
        "id": "7eO8jISUaNys",
        "outputId": "0633e5d3-d9d4-4abc-c3f8-ac81d584721b"
      },
      "execution_count": 30,
      "outputs": [
        {
          "output_type": "stream",
          "name": "stdout",
          "text": [
            "Estatítica do teste: -2.0739\n",
            "p_valor: 0.25512862\n",
            "Valores Críticos:\n",
            "1%: -3.4395\n",
            "5%: -2.8656\n",
            "10%: -2.5689\n"
          ]
        }
      ]
    }
  ]
}