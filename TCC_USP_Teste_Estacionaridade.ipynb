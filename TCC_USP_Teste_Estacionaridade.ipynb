{
  "nbformat": 4,
  "nbformat_minor": 0,
  "metadata": {
    "colab": {
      "provenance": [],
      "authorship_tag": "ABX9TyMjsl6yPYFLLjYQxKKuW27r",
      "include_colab_link": true
    },
    "kernelspec": {
      "name": "python3",
      "display_name": "Python 3"
    },
    "language_info": {
      "name": "python"
    }
  },
  "cells": [
    {
      "cell_type": "markdown",
      "metadata": {
        "id": "view-in-github",
        "colab_type": "text"
      },
      "source": [
        "<a href=\"https://colab.research.google.com/github/flaviopradoaquino/TCC_MBA_USP_ESALQ/blob/main/TCC_USP_Teste_Estacionaridade.ipynb\" target=\"_parent\"><img src=\"https://colab.research.google.com/assets/colab-badge.svg\" alt=\"Open In Colab\"/></a>"
      ]
    },
    {
      "cell_type": "markdown",
      "source": [
        "# **Instalação e Importação das Bibliotecas**"
      ],
      "metadata": {
        "id": "QiyA0DIMHdrf"
      }
    },
    {
      "cell_type": "code",
      "execution_count": null,
      "metadata": {
        "id": "iWglXk3JHMra"
      },
      "outputs": [],
      "source": [
        "!pip install -q yfinance"
      ]
    },
    {
      "cell_type": "code",
      "source": [
        "import pandas as pd\n",
        "import numpy as np\n",
        "import matplotlib.pyplot as plt\n",
        "import yfinance as yf\n",
        "import datetime\n",
        "import statsmodels.tsa.stattools\n",
        "import plotly.express as px\n",
        "from datetime import date, timedelta"
      ],
      "metadata": {
        "id": "T8Ers5qAHw6q"
      },
      "execution_count": null,
      "outputs": []
    },
    {
      "cell_type": "markdown",
      "source": [
        "# **Construção do Dataset**"
      ],
      "metadata": {
        "id": "3ZxIKIvpIoHJ"
      }
    },
    {
      "cell_type": "code",
      "source": [
        "dateparse = lambda dates: datetime.datetime.strptime(dates, '%Y-%m-%d')"
      ],
      "metadata": {
        "id": "-JFzm-ygKGqX"
      },
      "execution_count": null,
      "outputs": []
    },
    {
      "cell_type": "code",
      "source": [
        "from datetime import datetime \n",
        "dt_atual = date.today()\n",
        "td = timedelta(1095)\n",
        "dt_final = datetime(2023, 3, 3)"
      ],
      "metadata": {
        "id": "ntZyWMcAl5PP"
      },
      "execution_count": null,
      "outputs": []
    },
    {
      "cell_type": "code",
      "source": [
        "### Data de referência menos 1095 dias\n",
        "df_teste_est = yf.download(\"BOVA11.SA\", start=(dt_final-td))['Close']\n",
        "\n",
        "### Data atual menos 1095 dias\n",
        "# df = yf.download(\"BOVA11.SA\", start=(dt_atual-td))['Close']\n",
        "\n",
        "### Intervalo de datas fixas\n",
        "# df = yf.download(\"BOVA11.SA\", start=\"2020-03-03\", end=\"2023-03-03\")['Close']"
      ],
      "metadata": {
        "id": "VqrlE1kTJTd3"
      },
      "execution_count": null,
      "outputs": []
    },
    {
      "cell_type": "code",
      "source": [
        "df_teste_est"
      ],
      "metadata": {
        "id": "OO-YZaNRJj9l"
      },
      "execution_count": null,
      "outputs": []
    },
    {
      "cell_type": "markdown",
      "source": [
        "# **Teste de Estacionaridade KPSS (Kwiatkowski-Phillips-Schmidt-Shin)**\n",
        "\n",
        "**Ho = não é estacionário: estatística do teste > valor crítico**\n",
        "\n",
        "**Ha = é estacionário: estatística do teste < valor crítico**"
      ],
      "metadata": {
        "id": "P7_QxuD0bIWX"
      }
    },
    {
      "cell_type": "code",
      "source": [
        "kpss_01 = statsmodels.tsa.stattools.kpss(df_teste_est)\n",
        "print('Estatítica do teste: {:.4f}'.format(kpss_01[0]))\n",
        "print('p_valor: {:.4f}'.format(kpss_01[1]))\n",
        "print('número de lags: {}'.format(kpss_01[2]))\n",
        "print('Valores Críticos:')\n",
        "for chave, valor in kpss_01[3].items():\n",
        "   print('{}: {:.4f}'.format(chave, valor))"
      ],
      "metadata": {
        "id": "InIKi6tpXmb4"
      },
      "execution_count": null,
      "outputs": []
    },
    {
      "cell_type": "markdown",
      "source": [
        "# **Teste de Estacionaridade DFuller (Dickey Fuller)**\n",
        "\n",
        "**Ho = não é estacionário: estatística do teste > valor crítico**\n",
        "\n",
        "**Ha = é estacionário: estatística do teste < valor crítico**"
      ],
      "metadata": {
        "id": "DsHoCf5BcChf"
      }
    },
    {
      "cell_type": "code",
      "source": [
        "dfuller_01 = statsmodels.tsa.stattools.adfuller(df_teste_est)\n",
        "print('Estatítica do teste: {:.4f}'.format(dfuller_01[0]))\n",
        "print('p_valor: {:.8f}'.format(dfuller_01[1]))\n",
        "print('Valores Críticos:')\n",
        "for chave, valor in dfuller_01[4].items():\n",
        "   print('{}: {:.4f}'.format(chave, valor))"
      ],
      "metadata": {
        "id": "qatgGNGNcVJd"
      },
      "execution_count": null,
      "outputs": []
    },
    {
      "cell_type": "markdown",
      "source": [
        "# **Excluindo Outliers para o Teste de Estacionaridade**"
      ],
      "metadata": {
        "id": "6846-2badKiQ"
      }
    },
    {
      "cell_type": "markdown",
      "source": [],
      "metadata": {
        "id": "6mYJ3eZ_cJNC"
      }
    },
    {
      "cell_type": "code",
      "source": [
        "df = df_teste_est.reset_index()"
      ],
      "metadata": {
        "id": "C4tErq7mTltP"
      },
      "execution_count": null,
      "outputs": []
    },
    {
      "cell_type": "code",
      "source": [
        "df"
      ],
      "metadata": {
        "id": "l-uHFoRaUNyu"
      },
      "execution_count": null,
      "outputs": []
    },
    {
      "cell_type": "code",
      "source": [
        "df_bova_temp = df[['Date', 'Close']].rename(columns = {'Date': 'ds', 'Close': 'y'})"
      ],
      "metadata": {
        "id": "UOFWvYQOSRRn"
      },
      "execution_count": null,
      "outputs": []
    },
    {
      "cell_type": "code",
      "source": [
        "df_bova_temp"
      ],
      "metadata": {
        "id": "5F0hBwaCV-OF"
      },
      "execution_count": null,
      "outputs": []
    },
    {
      "cell_type": "code",
      "source": [
        "df_bova = pd.DataFrame({\n",
        "  \"ds\": df_bova_temp['ds'].dt.date,\n",
        "  \"y\":df_bova_temp['y']\n",
        "})"
      ],
      "metadata": {
        "id": "fxhtioTFPI1-"
      },
      "execution_count": null,
      "outputs": []
    },
    {
      "cell_type": "code",
      "source": [
        "dados = df_bova['y']\n",
        "dados.describe()"
      ],
      "metadata": {
        "id": "c77evoa-nSEg"
      },
      "execution_count": null,
      "outputs": []
    },
    {
      "cell_type": "code",
      "source": [
        "boxplot_bova = px.box(dados, y=\"y\")\n",
        "boxplot_bova.show()"
      ],
      "metadata": {
        "id": "G7Qcqcr1tSx8"
      },
      "execution_count": null,
      "outputs": []
    },
    {
      "cell_type": "code",
      "source": [
        "q1 = np.quantile(dados, .25, method=\"midpoint\")\n",
        "q2 = np.quantile(dados, .5, method=\"midpoint\")\n",
        "q3 = np.quantile(dados, .75, method=\"midpoint\")\n",
        "IIQ = q3 - q1"
      ],
      "metadata": {
        "id": "OmaNtq0rqK6I"
      },
      "execution_count": null,
      "outputs": []
    },
    {
      "cell_type": "code",
      "source": [
        "### Limite inferior do boxplot\n",
        "limite_inferior = q1 - 1.5 * IIQ\n",
        "limite_inferior"
      ],
      "metadata": {
        "id": "02CTiQxir3hm"
      },
      "execution_count": null,
      "outputs": []
    },
    {
      "cell_type": "code",
      "source": [
        "### Limite superior do boxplot\n",
        "limite_superior = q3 + 1.5 * IIQ\n",
        "limite_superior"
      ],
      "metadata": {
        "id": "1hzLfnOYsxUm"
      },
      "execution_count": null,
      "outputs": []
    },
    {
      "cell_type": "code",
      "source": [
        "df_bova_lim_inf = df_bova[df_bova['y']>limite_inferior]\n",
        "df_bova_clean = df_bova_lim_inf[df_bova_lim_inf['y']<limite_superior]\n",
        "df_bova = df_bova_clean\n",
        "df_bova"
      ],
      "metadata": {
        "id": "MrX5R7kGtvEI"
      },
      "execution_count": null,
      "outputs": []
    },
    {
      "cell_type": "code",
      "source": [
        "df_teste_estacionaridade = pd.Series(df_bova['y'].values, index = df_bova['ds'])"
      ],
      "metadata": {
        "id": "D82D9Bn1Zgi6"
      },
      "execution_count": null,
      "outputs": []
    },
    {
      "cell_type": "markdown",
      "source": [
        "# **Teste de Estacionaridade KPSS (Kwiatkowski-Phillips-Schmidt-Shin)**\n",
        "\n",
        "**Ho = não é estacionário: estatística do teste > valor crítico**\n",
        "\n",
        "**Ha = é estacionário: estatística do teste < valor crítico**"
      ],
      "metadata": {
        "id": "oHUd7l1wdImq"
      }
    },
    {
      "cell_type": "code",
      "source": [
        "kpss_02 = statsmodels.tsa.stattools.kpss(df_teste_estacionaridade)\n",
        "print('Estatítica do teste: {:.4f}'.format(kpss_02[0]))\n",
        "print('p_valor: {:.4f}'.format(kpss_02[1]))\n",
        "print('número de lags: {}'.format(kpss_02[2]))\n",
        "print('Valores Críticos:')\n",
        "for chave, valor in kpss_02[3].items():\n",
        "   print('{}: {:.4f}'.format(chave, valor))"
      ],
      "metadata": {
        "id": "UwMz1Ge8aDn3"
      },
      "execution_count": null,
      "outputs": []
    },
    {
      "cell_type": "markdown",
      "source": [
        "# **Teste de Estacionaridade DFuller (Dickey Fuller)**\n",
        "\n",
        "**Ho = não é estacionário: estatística do teste > valor crítico**\n",
        "\n",
        "**Ha = é estacionário: estatística do teste < valor crítico**"
      ],
      "metadata": {
        "id": "eH6du86pdrZK"
      }
    },
    {
      "cell_type": "code",
      "source": [
        "dfuller_02 = statsmodels.tsa.stattools.adfuller(df_teste_estacionaridade)\n",
        "print('Estatítica do teste: {:.4f}'.format(dfuller_02[0]))\n",
        "print('p_valor: {:.8f}'.format(dfuller_02[1]))\n",
        "print('Valores Críticos:')\n",
        "for chave, valor in dfuller_02[4].items():\n",
        "   print('{}: {:.4f}'.format(chave, valor))"
      ],
      "metadata": {
        "id": "7eO8jISUaNys"
      },
      "execution_count": null,
      "outputs": []
    }
  ]
}