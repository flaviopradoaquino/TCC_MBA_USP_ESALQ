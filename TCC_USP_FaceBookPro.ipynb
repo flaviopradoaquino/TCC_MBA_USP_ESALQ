{
  "nbformat": 4,
  "nbformat_minor": 0,
  "metadata": {
    "colab": {
      "provenance": [],
      "authorship_tag": "ABX9TyN67Iy9w4w4SnX34nbpYPbb",
      "include_colab_link": true
    },
    "kernelspec": {
      "name": "python3",
      "display_name": "Python 3"
    },
    "language_info": {
      "name": "python"
    }
  },
  "cells": [
    {
      "cell_type": "markdown",
      "metadata": {
        "id": "view-in-github",
        "colab_type": "text"
      },
      "source": [
        "<a href=\"https://colab.research.google.com/github/flaviopradoaquino/TCC_MBA_USP_ESALQ/blob/main/TCC_USP_FaceBookPro.ipynb\" target=\"_parent\"><img src=\"https://colab.research.google.com/assets/colab-badge.svg\" alt=\"Open In Colab\"/></a>"
      ]
    },
    {
      "cell_type": "markdown",
      "source": [
        "# **Instalação e Importação das Bibliotecas**"
      ],
      "metadata": {
        "id": "QiyA0DIMHdrf"
      }
    },
    {
      "cell_type": "code",
      "execution_count": null,
      "metadata": {
        "id": "iWglXk3JHMra"
      },
      "outputs": [],
      "source": [
        "!pip install prophet\n",
        "!pip install -q yfinance"
      ]
    },
    {
      "cell_type": "code",
      "source": [
        "import pandas as pd\n",
        "import numpy as np\n",
        "import matplotlib.pyplot as plt\n",
        "import plotly.express as px\n",
        "import yfinance as yf\n",
        "import datetime\n",
        "import plotly.express as px\n",
        "from prophet.plot import plot_plotly, plot_components_plotly\n",
        "from datetime import date, timedelta\n",
        "from prophet import Prophet\n",
        "from statsmodels.tsa.seasonal import seasonal_decompose\n",
        "from sklearn.metrics import mean_absolute_error"
      ],
      "metadata": {
        "id": "T8Ers5qAHw6q"
      },
      "execution_count": null,
      "outputs": []
    },
    {
      "cell_type": "markdown",
      "source": [
        "# **Construção do Dataset**"
      ],
      "metadata": {
        "id": "3ZxIKIvpIoHJ"
      }
    },
    {
      "cell_type": "code",
      "source": [
        "dateparse = lambda dates: datetime.datetime.strptime(dates, '%Y-%m-%d')"
      ],
      "metadata": {
        "id": "-JFzm-ygKGqX"
      },
      "execution_count": null,
      "outputs": []
    },
    {
      "cell_type": "code",
      "source": [
        "from datetime import datetime \n",
        "dt_atual = date.today()\n",
        "td = timedelta(1095)\n",
        "dt_final = datetime(2023, 3, 3)"
      ],
      "metadata": {
        "id": "ntZyWMcAl5PP"
      },
      "execution_count": null,
      "outputs": []
    },
    {
      "cell_type": "code",
      "source": [
        "### Data de referência menos 1095 dias\n",
        "df = yf.download(\"BOVA11.SA\", start=(dt_final-td))['Close']\n",
        "\n",
        "### Data atual menos 1095 dias\n",
        "# df = yf.download(\"BOVA11.SA\", start=(dt_atual-td))['Close']\n",
        "\n",
        "### Intervalo de datas fixas\n",
        "# df = yf.download(\"BOVA11.SA\", start=\"2020-03-03\", end=\"2023-03-03\")['Close']"
      ],
      "metadata": {
        "id": "VqrlE1kTJTd3"
      },
      "execution_count": null,
      "outputs": []
    },
    {
      "cell_type": "code",
      "source": [
        "df"
      ],
      "metadata": {
        "id": "OO-YZaNRJj9l"
      },
      "execution_count": null,
      "outputs": []
    },
    {
      "cell_type": "code",
      "source": [
        "df = df.reset_index()\n",
        "df"
      ],
      "metadata": {
        "id": "C4tErq7mTltP"
      },
      "execution_count": null,
      "outputs": []
    },
    {
      "cell_type": "code",
      "source": [
        "df.info()"
      ],
      "metadata": {
        "id": "4sunJ7JaNoTV"
      },
      "execution_count": null,
      "outputs": []
    },
    {
      "cell_type": "code",
      "source": [
        "df_bova_temp = df[['Date', 'Close']].rename(columns = {'Date': 'ds', 'Close': 'y'})\n",
        "df_bova_temp"
      ],
      "metadata": {
        "id": "UOFWvYQOSRRn"
      },
      "execution_count": null,
      "outputs": []
    },
    {
      "cell_type": "code",
      "source": [
        "### Alocando somente a data e excluindo uma possível hora inclusa na importação dos dados\n",
        "df_bova = pd.DataFrame({\n",
        "  \"ds\": df_bova_temp['ds'].dt.date,\n",
        "  \"y\":df_bova_temp['y']\n",
        "})"
      ],
      "metadata": {
        "id": "fxhtioTFPI1-"
      },
      "execution_count": null,
      "outputs": []
    },
    {
      "cell_type": "markdown",
      "source": [
        "# **Excluindo Outliers**"
      ],
      "metadata": {
        "id": "6846-2badKiQ"
      }
    },
    {
      "cell_type": "code",
      "source": [
        "dados = df_bova['y']\n",
        "dados.describe()"
      ],
      "metadata": {
        "id": "c77evoa-nSEg"
      },
      "execution_count": null,
      "outputs": []
    },
    {
      "cell_type": "code",
      "source": [
        "boxplot_bova = px.box(dados, y=\"y\")\n",
        "boxplot_bova.show()"
      ],
      "metadata": {
        "id": "G7Qcqcr1tSx8"
      },
      "execution_count": null,
      "outputs": []
    },
    {
      "cell_type": "code",
      "source": [
        "q1 = np.quantile(dados, .25, method=\"midpoint\")\n",
        "q2 = np.quantile(dados, .5, method=\"midpoint\")\n",
        "q3 = np.quantile(dados, .75, method=\"midpoint\")\n",
        "IIQ = q3 - q1"
      ],
      "metadata": {
        "id": "OmaNtq0rqK6I"
      },
      "execution_count": null,
      "outputs": []
    },
    {
      "cell_type": "code",
      "source": [
        "### Limite inferior do boxplot\n",
        "limite_inferior = q1 - 1.5 * IIQ\n",
        "limite_inferior"
      ],
      "metadata": {
        "id": "02CTiQxir3hm"
      },
      "execution_count": null,
      "outputs": []
    },
    {
      "cell_type": "code",
      "source": [
        "### Limite superior do boxplot\n",
        "limite_superior = q3 + 1.5 * IIQ\n",
        "limite_superior"
      ],
      "metadata": {
        "id": "1hzLfnOYsxUm"
      },
      "execution_count": null,
      "outputs": []
    },
    {
      "cell_type": "code",
      "source": [
        "df_bova_lim_inf = df_bova[df_bova['y']>limite_inferior]\n",
        "df_bova_clean = df_bova_lim_inf[df_bova_lim_inf['y']<limite_superior]\n",
        "df_bova = df_bova_clean\n",
        "df_bova\n"
      ],
      "metadata": {
        "id": "MrX5R7kGtvEI"
      },
      "execution_count": null,
      "outputs": []
    },
    {
      "cell_type": "markdown",
      "source": [
        "# **Construção do Modelo**"
      ],
      "metadata": {
        "id": "YGZNX7VLOPSr"
      }
    },
    {
      "cell_type": "code",
      "source": [
        "### Hperparâmetros do modelo\n",
        "md = Prophet(\n",
        "             n_changepoints=20, \n",
        "             seasonality_mode='additive', \n",
        "             seasonality_prior_scale=10, \n",
        "             weekly_seasonality=False,\n",
        "             daily_seasonality=False,\n",
        "             interval_width=0.95\n",
        "             )\n",
        "### Adicionando feriados do Brasil\n",
        "md.add_country_holidays(country_name='BR')\n",
        "md.fit(df_bova)"
      ],
      "metadata": {
        "id": "Nakm2OaKRq3m"
      },
      "execution_count": null,
      "outputs": []
    },
    {
      "cell_type": "code",
      "source": [
        "tempo = md.make_future_dataframe(periods=90)\n",
        "previsoes = md.predict(tempo)"
      ],
      "metadata": {
        "id": "EzTxs3OMWiw0"
      },
      "execution_count": null,
      "outputs": []
    },
    {
      "cell_type": "code",
      "source": [
        "previsoes.head()"
      ],
      "metadata": {
        "id": "PG56te3WWvaD"
      },
      "execution_count": null,
      "outputs": []
    },
    {
      "cell_type": "code",
      "source": [
        "previsoes.head(3).T"
      ],
      "metadata": {
        "id": "Ml05nJjCRXzs"
      },
      "execution_count": null,
      "outputs": []
    },
    {
      "cell_type": "code",
      "source": [
        "### Conferindo a aderência dos feriados ao modelo\n",
        "md.train_holiday_names"
      ],
      "metadata": {
        "id": "5_dZrUEQysrY"
      },
      "execution_count": null,
      "outputs": []
    },
    {
      "cell_type": "code",
      "source": [
        "from prophet.plot import plot_plotly, plot_components_plotly"
      ],
      "metadata": {
        "id": "E4eo8NsoYLDF"
      },
      "execution_count": null,
      "outputs": []
    },
    {
      "cell_type": "code",
      "source": [
        "plot_plotly(md, previsoes)"
      ],
      "metadata": {
        "id": "tWibL8C3Ywgb"
      },
      "execution_count": null,
      "outputs": []
    },
    {
      "cell_type": "code",
      "source": [
        "plot_components_plotly(md, previsoes)"
      ],
      "metadata": {
        "id": "Z0KHNKF9aKs7"
      },
      "execution_count": null,
      "outputs": []
    },
    {
      "cell_type": "markdown",
      "source": [
        "# **Avaliação do Modelo**"
      ],
      "metadata": {
        "id": "V5GtF0gBCpuG"
      }
    },
    {
      "cell_type": "code",
      "source": [
        "dateparse = lambda dates: datetime.datetime.strptime(dates, '%Y-%m-%d')\n",
        "### Definição do intervalo de tempo\n",
        "dt_atual = date.today()\n",
        "td = timedelta(1095)"
      ],
      "metadata": {
        "id": "eR3tCspuVguy"
      },
      "execution_count": null,
      "outputs": []
    },
    {
      "cell_type": "code",
      "source": [
        "### Importação dos dados do website da Yahoo Finance\n",
        "df2 = yf.download(\"BOVA11.SA\", start=(dt_atual-td))['Close']"
      ],
      "metadata": {
        "id": "K3WOPDrXCt2t"
      },
      "execution_count": null,
      "outputs": []
    },
    {
      "cell_type": "code",
      "source": [
        "### Contando o número de observações gerado\n",
        "len(df2.index)"
      ],
      "metadata": {
        "id": "iahniE8hzYZg"
      },
      "execution_count": null,
      "outputs": []
    },
    {
      "cell_type": "code",
      "source": [
        "### Definindo o dataset de avaliação a partir da linha 365\n",
        "df_aval = df2[len(df2.index)-365:]\n",
        "df_aval.shape"
      ],
      "metadata": {
        "id": "HnGGzvQ1yyTc"
      },
      "execution_count": null,
      "outputs": []
    },
    {
      "cell_type": "code",
      "source": [
        "df2"
      ],
      "metadata": {
        "id": "-p3XXi5TaJpg"
      },
      "execution_count": null,
      "outputs": []
    },
    {
      "cell_type": "code",
      "source": [
        "### Gerando o boxblot pela variável com o valor de fechamento pregão do dia (Close)\n",
        "boxplot_avaliacao = px.box(df_aval, y=\"Close\")\n",
        "boxplot_avaliacao.show()"
      ],
      "metadata": {
        "id": "sKm_0ze1u9wo"
      },
      "execution_count": null,
      "outputs": []
    },
    {
      "cell_type": "code",
      "source": [
        "df2.shape"
      ],
      "metadata": {
        "id": "VJ6gEcRwC5Zs"
      },
      "execution_count": null,
      "outputs": []
    },
    {
      "cell_type": "code",
      "source": [
        "len(df2.index)-365"
      ],
      "metadata": {
        "id": "YtXVr8M4yVgy"
      },
      "execution_count": null,
      "outputs": []
    },
    {
      "cell_type": "code",
      "source": [
        "teste = df2[len(df2.index)-365:]\n",
        "teste.shape"
      ],
      "metadata": {
        "id": "GeJYssNzDA2s"
      },
      "execution_count": null,
      "outputs": []
    },
    {
      "cell_type": "code",
      "source": [
        "teste.head()"
      ],
      "metadata": {
        "id": "4rrIE9YkbypU"
      },
      "execution_count": null,
      "outputs": []
    },
    {
      "cell_type": "code",
      "source": [
        "pred = md.make_future_dataframe(periods=0)\n",
        "previsao = md.predict(pred)"
      ],
      "metadata": {
        "id": "r4Cjj1XgDK7r"
      },
      "execution_count": null,
      "outputs": []
    },
    {
      "cell_type": "code",
      "source": [
        "previsao = previsao['yhat'].tail(365)"
      ],
      "metadata": {
        "id": "lg2vUr4xDRQr"
      },
      "execution_count": null,
      "outputs": []
    },
    {
      "cell_type": "code",
      "source": [
        "previsao"
      ],
      "metadata": {
        "id": "f8qDEAZsvEBR"
      },
      "execution_count": null,
      "outputs": []
    },
    {
      "cell_type": "code",
      "source": [
        "teste = teste.reset_index()\n",
        "teste"
      ],
      "metadata": {
        "id": "ZaS1YDBdvOSv"
      },
      "execution_count": null,
      "outputs": []
    },
    {
      "cell_type": "code",
      "source": [
        "teste = teste[['Close']]\n",
        "teste"
      ],
      "metadata": {
        "id": "gL_frRBbwCdT"
      },
      "execution_count": null,
      "outputs": []
    },
    {
      "cell_type": "code",
      "source": [
        "previsao = previsao.reset_index()\n",
        "previsao = previsao[['yhat']]\n",
        "previsao"
      ],
      "metadata": {
        "id": "BwicWSk6wQjM"
      },
      "execution_count": null,
      "outputs": []
    },
    {
      "cell_type": "code",
      "source": [
        "mean_absolute_error(teste, previsao)"
      ],
      "metadata": {
        "id": "KFxOBlJADVBs"
      },
      "execution_count": null,
      "outputs": []
    }
  ]
}